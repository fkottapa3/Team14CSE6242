{
 "cells": [
  {
   "cell_type": "code",
   "execution_count": 1,
   "metadata": {
    "colab": {
     "base_uri": "https://localhost:8080/",
     "height": 73
    },
    "id": "RFP6IbIaB3mQ",
    "outputId": "401a0fa7-15be-4c13-a5aa-6d31f4468909"
   },
   "outputs": [],
   "source": [
    "# Updates March 15, 2025\n",
    "# from google.colab import files\n",
    "import pandas as pd\n",
    "\n",
    "# uploaded = files.upload()"
   ]
  },
  {
   "cell_type": "code",
   "execution_count": 2,
   "metadata": {},
   "outputs": [],
   "source": [
    "#  import libraries\n",
    "import pandas as pd\n",
    "import numpy as np\n",
    "import matplotlib.pyplot as plt\n",
    "import seaborn as sns\n",
    "from sklearn.preprocessing import StandardScaler\n",
    "from sklearn.decomposition import PCA\n",
    "from xgboost import XGBClassifier\n",
    "from sklearn.metrics import accuracy_score, precision_score, recall_score, f1_score, confusion_matrix, classification_report\n",
    "from sklearn.model_selection import train_test_split\n",
    "import warnings\n",
    "warnings.filterwarnings(\"ignore\")"
   ]
  },
  {
   "cell_type": "code",
   "execution_count": 3,
   "metadata": {
    "colab": {
     "base_uri": "https://localhost:8080/",
     "height": 223
    },
    "id": "qXUAWRCZDG4d",
    "outputId": "046ce34b-cb86-45da-d365-e98dbaa18487"
   },
   "outputs": [
    {
     "name": "stdout",
     "output_type": "stream",
     "text": [
      "<class 'pandas.core.frame.DataFrame'>\n",
      "RangeIndex: 100000 entries, 0 to 99999\n",
      "Data columns (total 9 columns):\n",
      " #   Column               Non-Null Count   Dtype  \n",
      "---  ------               --------------   -----  \n",
      " 0   gender               100000 non-null  object \n",
      " 1   age                  100000 non-null  float64\n",
      " 2   hypertension         100000 non-null  int64  \n",
      " 3   heart_disease        100000 non-null  int64  \n",
      " 4   smoking_history      100000 non-null  object \n",
      " 5   bmi                  100000 non-null  float64\n",
      " 6   HbA1c_level          100000 non-null  float64\n",
      " 7   blood_glucose_level  100000 non-null  int64  \n",
      " 8   diabetes             100000 non-null  int64  \n",
      "dtypes: float64(3), int64(4), object(2)\n",
      "memory usage: 6.9+ MB\n",
      "None\n",
      "(100000, 9)\n"
     ]
    },
    {
     "data": {
      "text/html": [
       "<div>\n",
       "<style scoped>\n",
       "    .dataframe tbody tr th:only-of-type {\n",
       "        vertical-align: middle;\n",
       "    }\n",
       "\n",
       "    .dataframe tbody tr th {\n",
       "        vertical-align: top;\n",
       "    }\n",
       "\n",
       "    .dataframe thead th {\n",
       "        text-align: right;\n",
       "    }\n",
       "</style>\n",
       "<table border=\"1\" class=\"dataframe\">\n",
       "  <thead>\n",
       "    <tr style=\"text-align: right;\">\n",
       "      <th></th>\n",
       "      <th>gender</th>\n",
       "      <th>age</th>\n",
       "      <th>hypertension</th>\n",
       "      <th>heart_disease</th>\n",
       "      <th>smoking_history</th>\n",
       "      <th>bmi</th>\n",
       "      <th>HbA1c_level</th>\n",
       "      <th>blood_glucose_level</th>\n",
       "      <th>diabetes</th>\n",
       "    </tr>\n",
       "  </thead>\n",
       "  <tbody>\n",
       "    <tr>\n",
       "      <th>0</th>\n",
       "      <td>Female</td>\n",
       "      <td>80.0</td>\n",
       "      <td>0</td>\n",
       "      <td>1</td>\n",
       "      <td>never</td>\n",
       "      <td>25.19</td>\n",
       "      <td>6.6</td>\n",
       "      <td>140</td>\n",
       "      <td>0</td>\n",
       "    </tr>\n",
       "    <tr>\n",
       "      <th>1</th>\n",
       "      <td>Female</td>\n",
       "      <td>54.0</td>\n",
       "      <td>0</td>\n",
       "      <td>0</td>\n",
       "      <td>No Info</td>\n",
       "      <td>27.32</td>\n",
       "      <td>6.6</td>\n",
       "      <td>80</td>\n",
       "      <td>0</td>\n",
       "    </tr>\n",
       "    <tr>\n",
       "      <th>2</th>\n",
       "      <td>Male</td>\n",
       "      <td>28.0</td>\n",
       "      <td>0</td>\n",
       "      <td>0</td>\n",
       "      <td>never</td>\n",
       "      <td>27.32</td>\n",
       "      <td>5.7</td>\n",
       "      <td>158</td>\n",
       "      <td>0</td>\n",
       "    </tr>\n",
       "    <tr>\n",
       "      <th>3</th>\n",
       "      <td>Female</td>\n",
       "      <td>36.0</td>\n",
       "      <td>0</td>\n",
       "      <td>0</td>\n",
       "      <td>current</td>\n",
       "      <td>23.45</td>\n",
       "      <td>5.0</td>\n",
       "      <td>155</td>\n",
       "      <td>0</td>\n",
       "    </tr>\n",
       "    <tr>\n",
       "      <th>4</th>\n",
       "      <td>Male</td>\n",
       "      <td>76.0</td>\n",
       "      <td>1</td>\n",
       "      <td>1</td>\n",
       "      <td>current</td>\n",
       "      <td>20.14</td>\n",
       "      <td>4.8</td>\n",
       "      <td>155</td>\n",
       "      <td>0</td>\n",
       "    </tr>\n",
       "  </tbody>\n",
       "</table>\n",
       "</div>"
      ],
      "text/plain": [
       "   gender   age  hypertension  heart_disease smoking_history    bmi  \\\n",
       "0  Female  80.0             0              1           never  25.19   \n",
       "1  Female  54.0             0              0         No Info  27.32   \n",
       "2    Male  28.0             0              0           never  27.32   \n",
       "3  Female  36.0             0              0         current  23.45   \n",
       "4    Male  76.0             1              1         current  20.14   \n",
       "\n",
       "   HbA1c_level  blood_glucose_level  diabetes  \n",
       "0          6.6                  140         0  \n",
       "1          6.6                   80         0  \n",
       "2          5.7                  158         0  \n",
       "3          5.0                  155         0  \n",
       "4          4.8                  155         0  "
      ]
     },
     "execution_count": 3,
     "metadata": {},
     "output_type": "execute_result"
    }
   ],
   "source": [
    "df = pd.read_csv(\"data/diabetes_prediction_dataset.csv\")\n",
    "# df = pd.read_csv(\"C:/Users/USSB697670/Desktop/GeorgiaTech/Data_Visual_Analytics/Project/diabetes_prediction_dataset.csv\")\n",
    "print(df.info())\n",
    "print(df.shape)\n",
    "df.head()"
   ]
  },
  {
   "cell_type": "markdown",
   "metadata": {
    "id": "VbsZO9h1vLJK"
   },
   "source": [
    "# Exploratory Data Analysis"
   ]
  },
  {
   "cell_type": "code",
   "execution_count": 4,
   "metadata": {
    "id": "tYP873puv-mH",
    "scrolled": true
   },
   "outputs": [],
   "source": [
    "# df.describe()\n",
    "# df.info()"
   ]
  },
  {
   "cell_type": "markdown",
   "metadata": {},
   "source": [
    "Checking missing value"
   ]
  },
  {
   "cell_type": "code",
   "execution_count": 5,
   "metadata": {},
   "outputs": [
    {
     "data": {
      "image/png": "[encoded data removed]",
      "text/plain": [
       "<Figure size 640x480 with 1 Axes>"
      ]
     },
     "metadata": {},
     "output_type": "display_data"
    }
   ],
   "source": [
    "# print(df.isnull().sum())\n",
    "sns.countplot(x=df['diabetes'], data=df)\n",
    "plt.title('Distribution of Diabetes Outcomes')\n",
    "plt.xlabel('Outcome')\n",
    "plt.ylabel('Count')\n",
    "plt.show()"
   ]
  },
  {
   "cell_type": "markdown",
   "metadata": {},
   "source": [
    "Label Encoder"
   ]
  },
  {
   "cell_type": "markdown",
   "metadata": {},
   "source": [
    "**Review the categorical variables**\n",
    " - **if needed, we will use label encoding**"
   ]
  },
  {
   "cell_type": "code",
   "execution_count": 6,
   "metadata": {},
   "outputs": [
    {
     "name": "stdout",
     "output_type": "stream",
     "text": [
      "Unique values in 'gender': ['Female' 'Male' 'Other']\n",
      "Unique values in 'smoking_history': ['never' 'No Info' 'current' 'former' 'ever' 'not current']\n"
     ]
    }
   ],
   "source": [
    "# Check unique values for 'gender'\n",
    "print(\"Unique values in 'gender':\", df['gender'].unique())\n",
    "\n",
    "# Check unique values for 'smoking_history'\n",
    "print(\"Unique values in 'smoking_history':\", df['smoking_history'].unique())\n"
   ]
  },
  {
   "cell_type": "markdown",
   "metadata": {},
   "source": [
    "**Since Gender has 3 values, we can keep the Label encoding as-is**\n",
    "**However, smoking_history has 6 values, so we will use one-hot encoding**\n"
   ]
  },
  {
   "cell_type": "code",
   "execution_count": 7,
   "metadata": {},
   "outputs": [
    {
     "name": "stdout",
     "output_type": "stream",
     "text": [
      "Updated Columns after Encoding: Index(['gender', 'age', 'hypertension', 'heart_disease', 'bmi', 'HbA1c_level',\n",
      "       'blood_glucose_level', 'diabetes', 'smoking_history_current',\n",
      "       'smoking_history_ever', 'smoking_history_former',\n",
      "       'smoking_history_never', 'smoking_history_not current'],\n",
      "      dtype='object')\n"
     ]
    }
   ],
   "source": [
    "# encode the data\n",
    "from sklearn.preprocessing import LabelEncoder\n",
    "le = LabelEncoder()\n",
    "df['gender'] = le.fit_transform(df['gender'])\n",
    "#df['smoking_history'] = le.fit_transform(df['smoking_history'])\n",
    "# One-Hot Encode 'smoking_history' (since it has multiple unordered categories)\n",
    "df = pd.get_dummies(df, columns=['smoking_history'], drop_first=True)\n",
    "\n",
    "# Display updated column names\n",
    "print(\"Updated Columns after Encoding:\", df.columns)"
   ]
  },
  {
   "cell_type": "code",
   "execution_count": 8,
   "metadata": {},
   "outputs": [
    {
     "data": {
      "text/html": [
       "<div>\n",
       "<style scoped>\n",
       "    .dataframe tbody tr th:only-of-type {\n",
       "        vertical-align: middle;\n",
       "    }\n",
       "\n",
       "    .dataframe tbody tr th {\n",
       "        vertical-align: top;\n",
       "    }\n",
       "\n",
       "    .dataframe thead th {\n",
       "        text-align: right;\n",
       "    }\n",
       "</style>\n",
       "<table border=\"1\" class=\"dataframe\">\n",
       "  <thead>\n",
       "    <tr style=\"text-align: right;\">\n",
       "      <th></th>\n",
       "      <th>gender</th>\n",
       "      <th>age</th>\n",
       "      <th>hypertension</th>\n",
       "      <th>heart_disease</th>\n",
       "      <th>bmi</th>\n",
       "      <th>HbA1c_level</th>\n",
       "      <th>blood_glucose_level</th>\n",
       "      <th>diabetes</th>\n",
       "      <th>smoking_history_current</th>\n",
       "      <th>smoking_history_ever</th>\n",
       "      <th>smoking_history_former</th>\n",
       "      <th>smoking_history_never</th>\n",
       "      <th>smoking_history_not current</th>\n",
       "    </tr>\n",
       "  </thead>\n",
       "  <tbody>\n",
       "    <tr>\n",
       "      <th>0</th>\n",
       "      <td>0</td>\n",
       "      <td>80.0</td>\n",
       "      <td>0</td>\n",
       "      <td>1</td>\n",
       "      <td>25.19</td>\n",
       "      <td>6.6</td>\n",
       "      <td>140</td>\n",
       "      <td>0</td>\n",
       "      <td>False</td>\n",
       "      <td>False</td>\n",
       "      <td>False</td>\n",
       "      <td>True</td>\n",
       "      <td>False</td>\n",
       "    </tr>\n",
       "    <tr>\n",
       "      <th>1</th>\n",
       "      <td>0</td>\n",
       "      <td>54.0</td>\n",
       "      <td>0</td>\n",
       "      <td>0</td>\n",
       "      <td>27.32</td>\n",
       "      <td>6.6</td>\n",
       "      <td>80</td>\n",
       "      <td>0</td>\n",
       "      <td>False</td>\n",
       "      <td>False</td>\n",
       "      <td>False</td>\n",
       "      <td>False</td>\n",
       "      <td>False</td>\n",
       "    </tr>\n",
       "    <tr>\n",
       "      <th>2</th>\n",
       "      <td>1</td>\n",
       "      <td>28.0</td>\n",
       "      <td>0</td>\n",
       "      <td>0</td>\n",
       "      <td>27.32</td>\n",
       "      <td>5.7</td>\n",
       "      <td>158</td>\n",
       "      <td>0</td>\n",
       "      <td>False</td>\n",
       "      <td>False</td>\n",
       "      <td>False</td>\n",
       "      <td>True</td>\n",
       "      <td>False</td>\n",
       "    </tr>\n",
       "    <tr>\n",
       "      <th>3</th>\n",
       "      <td>0</td>\n",
       "      <td>36.0</td>\n",
       "      <td>0</td>\n",
       "      <td>0</td>\n",
       "      <td>23.45</td>\n",
       "      <td>5.0</td>\n",
       "      <td>155</td>\n",
       "      <td>0</td>\n",
       "      <td>True</td>\n",
       "      <td>False</td>\n",
       "      <td>False</td>\n",
       "      <td>False</td>\n",
       "      <td>False</td>\n",
       "    </tr>\n",
       "    <tr>\n",
       "      <th>4</th>\n",
       "      <td>1</td>\n",
       "      <td>76.0</td>\n",
       "      <td>1</td>\n",
       "      <td>1</td>\n",
       "      <td>20.14</td>\n",
       "      <td>4.8</td>\n",
       "      <td>155</td>\n",
       "      <td>0</td>\n",
       "      <td>True</td>\n",
       "      <td>False</td>\n",
       "      <td>False</td>\n",
       "      <td>False</td>\n",
       "      <td>False</td>\n",
       "    </tr>\n",
       "    <tr>\n",
       "      <th>...</th>\n",
       "      <td>...</td>\n",
       "      <td>...</td>\n",
       "      <td>...</td>\n",
       "      <td>...</td>\n",
       "      <td>...</td>\n",
       "      <td>...</td>\n",
       "      <td>...</td>\n",
       "      <td>...</td>\n",
       "      <td>...</td>\n",
       "      <td>...</td>\n",
       "      <td>...</td>\n",
       "      <td>...</td>\n",
       "      <td>...</td>\n",
       "    </tr>\n",
       "    <tr>\n",
       "      <th>99995</th>\n",
       "      <td>0</td>\n",
       "      <td>80.0</td>\n",
       "      <td>0</td>\n",
       "      <td>0</td>\n",
       "      <td>27.32</td>\n",
       "      <td>6.2</td>\n",
       "      <td>90</td>\n",
       "      <td>0</td>\n",
       "      <td>False</td>\n",
       "      <td>False</td>\n",
       "      <td>False</td>\n",
       "      <td>False</td>\n",
       "      <td>False</td>\n",
       "    </tr>\n",
       "    <tr>\n",
       "      <th>99996</th>\n",
       "      <td>0</td>\n",
       "      <td>2.0</td>\n",
       "      <td>0</td>\n",
       "      <td>0</td>\n",
       "      <td>17.37</td>\n",
       "      <td>6.5</td>\n",
       "      <td>100</td>\n",
       "      <td>0</td>\n",
       "      <td>False</td>\n",
       "      <td>False</td>\n",
       "      <td>False</td>\n",
       "      <td>False</td>\n",
       "      <td>False</td>\n",
       "    </tr>\n",
       "    <tr>\n",
       "      <th>99997</th>\n",
       "      <td>1</td>\n",
       "      <td>66.0</td>\n",
       "      <td>0</td>\n",
       "      <td>0</td>\n",
       "      <td>27.83</td>\n",
       "      <td>5.7</td>\n",
       "      <td>155</td>\n",
       "      <td>0</td>\n",
       "      <td>False</td>\n",
       "      <td>False</td>\n",
       "      <td>True</td>\n",
       "      <td>False</td>\n",
       "      <td>False</td>\n",
       "    </tr>\n",
       "    <tr>\n",
       "      <th>99998</th>\n",
       "      <td>0</td>\n",
       "      <td>24.0</td>\n",
       "      <td>0</td>\n",
       "      <td>0</td>\n",
       "      <td>35.42</td>\n",
       "      <td>4.0</td>\n",
       "      <td>100</td>\n",
       "      <td>0</td>\n",
       "      <td>False</td>\n",
       "      <td>False</td>\n",
       "      <td>False</td>\n",
       "      <td>True</td>\n",
       "      <td>False</td>\n",
       "    </tr>\n",
       "    <tr>\n",
       "      <th>99999</th>\n",
       "      <td>0</td>\n",
       "      <td>57.0</td>\n",
       "      <td>0</td>\n",
       "      <td>0</td>\n",
       "      <td>22.43</td>\n",
       "      <td>6.6</td>\n",
       "      <td>90</td>\n",
       "      <td>0</td>\n",
       "      <td>True</td>\n",
       "      <td>False</td>\n",
       "      <td>False</td>\n",
       "      <td>False</td>\n",
       "      <td>False</td>\n",
       "    </tr>\n",
       "  </tbody>\n",
       "</table>\n",
       "<p>100000 rows × 13 columns</p>\n",
       "</div>"
      ],
      "text/plain": [
       "       gender   age  hypertension  heart_disease    bmi  HbA1c_level  \\\n",
       "0           0  80.0             0              1  25.19          6.6   \n",
       "1           0  54.0             0              0  27.32          6.6   \n",
       "2           1  28.0             0              0  27.32          5.7   \n",
       "3           0  36.0             0              0  23.45          5.0   \n",
       "4           1  76.0             1              1  20.14          4.8   \n",
       "...       ...   ...           ...            ...    ...          ...   \n",
       "99995       0  80.0             0              0  27.32          6.2   \n",
       "99996       0   2.0             0              0  17.37          6.5   \n",
       "99997       1  66.0             0              0  27.83          5.7   \n",
       "99998       0  24.0             0              0  35.42          4.0   \n",
       "99999       0  57.0             0              0  22.43          6.6   \n",
       "\n",
       "       blood_glucose_level  diabetes  smoking_history_current  \\\n",
       "0                      140         0                    False   \n",
       "1                       80         0                    False   \n",
       "2                      158         0                    False   \n",
       "3                      155         0                     True   \n",
       "4                      155         0                     True   \n",
       "...                    ...       ...                      ...   \n",
       "99995                   90         0                    False   \n",
       "99996                  100         0                    False   \n",
       "99997                  155         0                    False   \n",
       "99998                  100         0                    False   \n",
       "99999                   90         0                     True   \n",
       "\n",
       "       smoking_history_ever  smoking_history_former  smoking_history_never  \\\n",
       "0                     False                   False                   True   \n",
       "1                     False                   False                  False   \n",
       "2                     False                   False                   True   \n",
       "3                     False                   False                  False   \n",
       "4                     False                   False                  False   \n",
       "...                     ...                     ...                    ...   \n",
       "99995                 False                   False                  False   \n",
       "99996                 False                   False                  False   \n",
       "99997                 False                    True                  False   \n",
       "99998                 False                   False                   True   \n",
       "99999                 False                   False                  False   \n",
       "\n",
       "       smoking_history_not current  \n",
       "0                            False  \n",
       "1                            False  \n",
       "2                            False  \n",
       "3                            False  \n",
       "4                            False  \n",
       "...                            ...  \n",
       "99995                        False  \n",
       "99996                        False  \n",
       "99997                        False  \n",
       "99998                        False  \n",
       "99999                        False  \n",
       "\n",
       "[100000 rows x 13 columns]"
      ]
     },
     "execution_count": 8,
     "metadata": {},
     "output_type": "execute_result"
    }
   ],
   "source": [
    "df"
   ]
  },
  {
   "cell_type": "code",
   "execution_count": 9,
   "metadata": {},
   "outputs": [],
   "source": [
    "import sqlite3\n",
    "\n",
    "# Connect to SQLite database (creates if it doesn’t exist)\n",
    "conn = sqlite3.connect(\"diabetes_results.db\")\n",
    "cursor = conn.cursor()\n",
    "\n",
    "# Drop the existing table (WARNING: This will delete all previous results)\n",
    "cursor.execute(\"DROP TABLE IF EXISTS model_results\")\n",
    "\n",
    "\n",
    "# Create table for storing model results\n",
    "cursor.execute(\"\"\"\n",
    "    CREATE TABLE IF NOT EXISTS model_results (\n",
    "        id INTEGER PRIMARY KEY AUTOINCREMENT,\n",
    "        model_name TEXT,\n",
    "        threshold REAL,\n",
    "        precision REAL,\n",
    "        recall REAL,\n",
    "        f1_score REAL,\n",
    "        accuracy REAL,\n",
    "        run_timestamp DATETIME DEFAULT CURRENT_TIMESTAMP\n",
    "    )\n",
    "\"\"\")\n",
    "conn.commit()\n",
    "conn.close()\n"
   ]
  },
  {
   "cell_type": "code",
   "execution_count": 10,
   "metadata": {},
   "outputs": [],
   "source": [
    "import sqlite3\n",
    "from sklearn.metrics import classification_report\n",
    "\n",
    "def store_classification_results(model_name, threshold, y_true, y_pred):\n",
    "    \"\"\"Extract classification metrics and store them in SQLite\"\"\"\n",
    "    \n",
    "    report = classification_report(y_true, y_pred, output_dict=True)\n",
    "    \n",
    "    # Extract key metrics\n",
    "    precision = report[\"1\"][\"precision\"]\n",
    "    recall = report[\"1\"][\"recall\"]\n",
    "    f1_score = report[\"1\"][\"f1-score\"]\n",
    "    accuracy = report[\"accuracy\"]\n",
    "    \n",
    "    # Store in SQLite database\n",
    "    conn = sqlite3.connect(\"diabetes_results.db\")\n",
    "    cursor = conn.cursor()\n",
    "\n",
    "    # Check if this model run already exists\n",
    "    cursor.execute(\"\"\"\n",
    "        SELECT COUNT(*) FROM model_results\n",
    "        WHERE model_name = ? AND threshold = ? AND precision = ? AND recall = ? AND accuracy = ?\n",
    "    \"\"\", (model_name, threshold, precision, recall, accuracy))\n",
    "\n",
    "    cursor.execute(\"\"\"\n",
    "        INSERT INTO model_results (model_name, threshold, precision, recall, f1_score, accuracy)\n",
    "        VALUES (?, ?, ?, ?, ?, ?)\n",
    "    \"\"\", (model_name, threshold, precision, recall, f1_score, accuracy))\n",
    "    \n",
    "    conn.commit()\n",
    "    conn.close()\n",
    "    \n",
    "    print(f\"Results stored successfully: {model_name} (Threshold: {threshold})\")\n",
    "\n"
   ]
  },
  {
   "cell_type": "markdown",
   "metadata": {},
   "source": [
    "# Feature Importance"
   ]
  },
  {
   "cell_type": "code",
   "execution_count": 11,
   "metadata": {},
   "outputs": [],
   "source": [
    "# x = df.drop(\"diabetes\",axis=1)\n",
    "# y = df[\"diabetes\"]\n",
    "# from sklearn.ensemble import ExtraTreesClassifier\n",
    "# import matplotlib.pyplot as plt\n",
    "# model = ExtraTreesClassifier()\n",
    "# model.fit(x,y)\n",
    "# print(model.feature_importances_) #use inbuilt class feature_importances of tree based classifiers\n",
    "# #plot graph of feature importances for better visualization\n",
    "# feat_importances = pd.Series(model.feature_importances_, index=x.columns)\n",
    "# feat_importances.nlargest(10).plot(kind='barh')\n",
    "# plt.show()"
   ]
  },
  {
   "cell_type": "code",
   "execution_count": 12,
   "metadata": {},
   "outputs": [
    {
     "data": {
      "image/png": "[encoded data removed]",
      "text/plain": [
       "<Figure size 1000x600 with 1 Axes>"
      ]
     },
     "metadata": {},
     "output_type": "display_data"
    }
   ],
   "source": [
    "from sklearn.ensemble import ExtraTreesClassifier\n",
    "\n",
    "# Define Features and Target variables\n",
    "X = df.drop('diabetes', axis=1)\n",
    "y = df['diabetes']\n",
    "\n",
    "# Train ExtraTreesClassifier to identify feature importance\n",
    "model = ExtraTreesClassifier()\n",
    "model.fit(X, y)\n",
    "# Get feature importances\n",
    "importances = model.feature_importances_\n",
    "# Create a DataFrame for better visualization\n",
    "feat_importances = pd.DataFrame({'Feature': X.columns, 'Importance': importances})\n",
    "# Sort the DataFrame by importance\n",
    "feat_importances = feat_importances.sort_values(by='Importance', ascending=False)\n",
    "# Plot the feature importances\n",
    "plt.figure(figsize=(10, 6))\n",
    "sns.barplot(x='Importance', y='Feature', data=feat_importances)\n",
    "plt.title('Feature Importances from ExtraTreesClassifier')\n",
    "plt.xlabel('Importance')\n",
    "plt.ylabel('Feature')\n",
    "plt.show()"
   ]
  },
  {
   "cell_type": "markdown",
   "metadata": {},
   "source": [
    "**Feature Selection**"
   ]
  },
  {
   "cell_type": "code",
   "execution_count": 13,
   "metadata": {},
   "outputs": [],
   "source": [
    "# Keep all features for visualization & dashboard interaction\n",
    "X_full = df.drop(columns=[\"diabetes\"])  # Keeps everything except the target variable\n",
    "\n",
    "# Optimized feature set (for model training)\n",
    "selected_features = [\"HbA1c_level\", \"blood_glucose_level\", \"bmi\", \"age\", \"hypertension\", \"heart_disease\"]\n",
    "X_selected = df[selected_features]\n",
    "\n",
    "# Target variable remains the same\n",
    "y = df[\"diabetes\"]\n"
   ]
  },
  {
   "cell_type": "markdown",
   "metadata": {},
   "source": [
    "Splitting Data\n"
   ]
  },
  {
   "cell_type": "code",
   "execution_count": 14,
   "metadata": {},
   "outputs": [],
   "source": [
    "# We use StratifiedFold so that each fold in x-validation has the same proportion of diabetic and non-diabetic cases as the original dataset. \n",
    "# Also ensure balanced class distribution in each fold.\n",
    "# Also find the best parameters while preventing overfitting\n",
    "from sklearn.model_selection import StratifiedKFold\n",
    "skf = StratifiedKFold(n_splits=5, shuffle=True, random_state=42)\n"
   ]
  },
  {
   "cell_type": "markdown",
   "metadata": {},
   "source": [
    "# Model Selection"
   ]
  },
  {
   "cell_type": "markdown",
   "metadata": {},
   "source": [
    "1. Logistic Regression"
   ]
  },
  {
   "cell_type": "code",
   "execution_count": 15,
   "metadata": {},
   "outputs": [],
   "source": [
    "from sklearn.model_selection import train_test_split\n",
    "from sklearn.linear_model import LogisticRegression\n",
    "from sklearn.metrics import accuracy_score\n",
    "from sklearn.metrics import classification_report\n",
    "\n",
    "\n",
    "# # Define features and target\n",
    "# X = df.drop(columns=[\"diabetes\"])  # Ensure \"diabetes\" is the correct target column name\n",
    "# y = df[\"diabetes\"]\n",
    "\n",
    "# Step 1. Split the data into training and testing sets (80% train, 20% test)\n",
    "# X_train, X_test, y_train, y_test = train_test_split(X, y, test_size=0.2, random_state=42, stratify=y)\n",
    "X_train, X_test, y_train, y_test = train_test_split(X_selected, y, test_size=0.2, stratify=y, random_state=42)\n",
    "\n",
    "\n",
    "# # Initialize and train the model\n",
    "# model = LogisticRegression()\n",
    "# model.fit(X_train, y_train)\n"
   ]
  },
  {
   "cell_type": "code",
   "execution_count": 16,
   "metadata": {},
   "outputs": [
    {
     "name": "stdout",
     "output_type": "stream",
     "text": [
      "Results stored successfully: Logistic Regression (Threshold: 0.5)\n",
      "Model Performance with Selected Features:\n",
      "              precision    recall  f1-score   support\n",
      "\n",
      "           0       0.97      0.99      0.98     18300\n",
      "           1       0.86      0.64      0.73      1700\n",
      "\n",
      "    accuracy                           0.96     20000\n",
      "   macro avg       0.91      0.82      0.86     20000\n",
      "weighted avg       0.96      0.96      0.96     20000\n",
      "\n"
     ]
    }
   ],
   "source": [
    "# Step 2. Use only selected features for model training\n",
    "selected_features = [\"HbA1c_level\", \"blood_glucose_level\", \"bmi\", \"age\", \"hypertension\", \"heart_disease\"]\n",
    "X_train_selected = X_train[selected_features]\n",
    "X_test_selected = X_test[selected_features]\n",
    "\n",
    "# Step 3. Train the model with selected features\n",
    "model_lr = LogisticRegression()\n",
    "model_lr.fit(X_train_selected, y_train)\n",
    "\n",
    "# Step 4: Evaluate and make predictions on the new model\n",
    "y_preds_selected_lr = model_lr.predict(X_test_selected)\n",
    "store_classification_results(\"Logistic Regression\", 0.50, y_test, y_preds_selected_lr)\n",
    "\n",
    "print(\"Model Performance with Selected Features:\")\n",
    "print(classification_report(y_test, y_preds_selected_lr))\n"
   ]
  },
  {
   "cell_type": "markdown",
   "metadata": {},
   "source": [
    "**Summary**\n",
    "    - **Model Accuracy is at 96%**  \n",
    "    - **When the model predicts diabetes, it is correct 86% of the time**    \n",
    "    - **However, the model only catches 64% of actual diabets cases**   \n",
    "    - **Balanced performance based on f1-score 0.73**   \n",
    "\n",
    "**Concerns**    \n",
    "    - **We are missing 36% of the actual diabetic cases**   "
   ]
  },
  {
   "cell_type": "markdown",
   "metadata": {},
   "source": [
    "Check class distribution"
   ]
  },
  {
   "cell_type": "code",
   "execution_count": 17,
   "metadata": {},
   "outputs": [
    {
     "name": "stdout",
     "output_type": "stream",
     "text": [
      "diabetes\n",
      "0    0.915\n",
      "1    0.085\n",
      "Name: proportion, dtype: float64\n"
     ]
    },
    {
     "data": {
      "image/png": "[encoded data removed]",
      "text/plain": [
       "<Figure size 640x480 with 1 Axes>"
      ]
     },
     "metadata": {},
     "output_type": "display_data"
    }
   ],
   "source": [
    "import seaborn as sns\n",
    "\n",
    "sns.countplot(x=y)\n",
    "print(y.value_counts(normalize=True))  # Shows class proportions\n"
   ]
  },
  {
   "cell_type": "markdown",
   "metadata": {},
   "source": [
    "Handling class imbalance as the Model is predicting majority as 0 meaning \"no diabetes\"\n"
   ]
  },
  {
   "cell_type": "markdown",
   "metadata": {},
   "source": [
    "**Test SMOTE with new threshold 0.85**"
   ]
  },
  {
   "cell_type": "code",
   "execution_count": 18,
   "metadata": {},
   "outputs": [
    {
     "name": "stdout",
     "output_type": "stream",
     "text": [
      "Results stored successfully: Logistic Regression (SMOTE) (Threshold: 0.5)\n",
      "Model Performance after SMOTE:\n",
      "              precision    recall  f1-score   support\n",
      "\n",
      "           0       0.98      0.93      0.96     18300\n",
      "           1       0.53      0.80      0.64      1700\n",
      "\n",
      "    accuracy                           0.92     20000\n",
      "   macro avg       0.76      0.87      0.80     20000\n",
      "weighted avg       0.94      0.92      0.93     20000\n",
      "\n"
     ]
    }
   ],
   "source": [
    "from imblearn.over_sampling import SMOTE\n",
    "\n",
    "# Apply SMOTE to the training set\n",
    "smote = SMOTE(sampling_strategy=0.5, random_state=42)\n",
    "X_train_balanced, y_train_balanced = smote.fit_resample(X_train_selected, y_train)\n",
    "\n",
    "# Train Logistic Regression Again\n",
    "model_smote = LogisticRegression()\n",
    "model_smote.fit(X_train_balanced, y_train_balanced)\n",
    "\n",
    "# Predict & Evaluate\n",
    "y_preds_smote = model_smote.predict(X_test_selected)\n",
    "store_classification_results(\"Logistic Regression (SMOTE)\", 0.50, y_test, y_preds_smote)\n",
    "print(\"Model Performance after SMOTE:\")\n",
    "print(classification_report(y_test, y_preds_smote))\n"
   ]
  },
  {
   "cell_type": "markdown",
   "metadata": {},
   "source": [
    "**Summary of Model performance after applying SMOTE**\n",
    "    - **Model Accuracy dropped to 92%**  \n",
    "    - **When the model predicts diabetes, it is correct 53% of the time**    \n",
    "    - **However, the model now catches 80% of actual diabetes cases**   \n",
    "    - **Balanced performance based on f1-score 0.64**   \n",
    "\n",
    "**We are now only missing 20% of the actual diabetic cases**   "
   ]
  },
  {
   "cell_type": "code",
   "execution_count": 19,
   "metadata": {},
   "outputs": [
    {
     "name": "stdout",
     "output_type": "stream",
     "text": [
      "Results stored successfully: XGBoost (Default threshold 50) (Threshold: 0.5)\n",
      "XGBoost Model Performance:\n",
      "              precision    recall  f1-score   support\n",
      "\n",
      "           0       0.99      0.92      0.95     18300\n",
      "           1       0.49      0.89      0.64      1700\n",
      "\n",
      "    accuracy                           0.91     20000\n",
      "   macro avg       0.74      0.90      0.79     20000\n",
      "weighted avg       0.95      0.91      0.92     20000\n",
      "\n"
     ]
    }
   ],
   "source": [
    "from xgboost import XGBClassifier\n",
    "from sklearn.metrics import classification_report\n",
    "\n",
    "# Compute class weight ratio for handling imbalance\n",
    "scale_pos_weight = y_train.value_counts()[0] / y_train.value_counts()[1]\n",
    "\n",
    "# Train XGBoost with class balancing\n",
    "xgb_model = XGBClassifier(scale_pos_weight=scale_pos_weight, random_state=42, use_label_encoder=False, eval_metric=\"logloss\")\n",
    "xgb_model.fit(X_train_selected, y_train)\n",
    "\n",
    "# Predict on test set\n",
    "y_preds_xgb = xgb_model.predict(X_test_selected)\n",
    "\n",
    "# Evaluate model performance\n",
    "store_classification_results(\"XGBoost (Default threshold 50)\", 0.50, y_test, y_preds_selected_lr)\n",
    "\n",
    "print(\"XGBoost Model Performance:\")\n",
    "print(classification_report(y_test, y_preds_xgb))\n"
   ]
  },
  {
   "cell_type": "code",
   "execution_count": 20,
   "metadata": {},
   "outputs": [
    {
     "name": "stdout",
     "output_type": "stream",
     "text": [
      "Results stored successfully: iXGBoost (Tuned threshold 40) (Threshold: 0.4)\n",
      "XGBoost Performance with Adjusted Threshold (0.40):\n",
      "              precision    recall  f1-score   support\n",
      "\n",
      "           0       0.99      0.89      0.94     18300\n",
      "           1       0.43      0.92      0.59      1700\n",
      "\n",
      "    accuracy                           0.89     20000\n",
      "   macro avg       0.71      0.90      0.76     20000\n",
      "weighted avg       0.94      0.89      0.91     20000\n",
      "\n"
     ]
    }
   ],
   "source": [
    "from sklearn.metrics import precision_recall_curve\n",
    "\n",
    "# Get predicted probabilities\n",
    "y_probs_xgb = xgb_model.predict_proba(X_test_selected)[:, 1]\n",
    "\n",
    "# Adjust threshold (default = 0.50)\n",
    "new_threshold = 0.40\n",
    "y_preds_xgb_tuned = (y_probs_xgb >= new_threshold).astype(int)\n",
    "\n",
    "# Evaluate performance with adjusted threshold\n",
    "\n",
    "store_classification_results(\"iXGBoost (Tuned threshold 40)\", 0.40, y_test, y_preds_selected_lr)\n",
    "\n",
    "\n",
    "print(\"XGBoost Performance with Adjusted Threshold (0.40):\")\n",
    "print(classification_report(y_test, y_preds_xgb_tuned))\n"
   ]
  },
  {
   "cell_type": "code",
   "execution_count": 21,
   "metadata": {},
   "outputs": [
    {
     "name": "stdout",
     "output_type": "stream",
     "text": [
      "XGBoost Performance with Adjusted Threshold (0.50):\n",
      "              precision    recall  f1-score   support\n",
      "\n",
      "           0       0.99      0.92      0.95     18300\n",
      "           1       0.49      0.89      0.64      1700\n",
      "\n",
      "    accuracy                           0.91     20000\n",
      "   macro avg       0.74      0.90      0.79     20000\n",
      "weighted avg       0.95      0.91      0.92     20000\n",
      "\n"
     ]
    }
   ],
   "source": [
    "from sklearn.metrics import precision_recall_curve\n",
    "\n",
    "# Get predicted probabilities\n",
    "y_probs_xgb = xgb_model.predict_proba(X_test_selected)[:, 1]\n",
    "\n",
    "# Adjust threshold (default = 0.50)\n",
    "new_threshold = 0.50\n",
    "y_preds_xgb_tuned = (y_probs_xgb >= new_threshold).astype(int)\n",
    "\n",
    "# Evaluate performance with adjusted threshold\n",
    "print(\"XGBoost Performance with Adjusted Threshold (0.50):\")\n",
    "print(classification_report(y_test, y_preds_xgb_tuned))"
   ]
  },
  {
   "cell_type": "markdown",
   "metadata": {},
   "source": [
    "**Train XGBoost Classifier to handle imbalanced datasets**\n",
    "**We are exoecting better performance with XGBoost than Logistic Regression**"
   ]
  },
  {
   "cell_type": "code",
   "execution_count": 22,
   "metadata": {},
   "outputs": [
    {
     "name": "stdout",
     "output_type": "stream",
     "text": [
      "              precision_SMOTE  recall_SMOTE  f1-score_SMOTE  support_SMOTE  \\\n",
      "0                    0.980899      0.934481        0.957128     18300.0000   \n",
      "1                    0.532736      0.804118        0.640881      1700.0000   \n",
      "accuracy             0.923400      0.923400        0.923400         0.9234   \n",
      "macro avg            0.756818      0.869299        0.799005     20000.0000   \n",
      "weighted avg         0.942805      0.923400        0.930247     20000.0000   \n",
      "\n",
      "              precision_XGB_Tuned  recall_XGB_Tuned  f1-score_XGB_Tuned  \\\n",
      "0                        0.989016          0.915137            0.950643   \n",
      "1                        0.493642          0.890588            0.635200   \n",
      "accuracy                 0.913050          0.913050            0.913050   \n",
      "macro avg                0.741329          0.902862            0.792922   \n",
      "weighted avg             0.946909          0.913050            0.923830   \n",
      "\n",
      "              support_XGB_Tuned  \n",
      "0                   18300.00000  \n",
      "1                    1700.00000  \n",
      "accuracy                0.91305  \n",
      "macro avg           20000.00000  \n",
      "weighted avg        20000.00000  \n"
     ]
    }
   ],
   "source": [
    "from sklearn.metrics import classification_report\n",
    "import pandas as pd\n",
    "\n",
    "# Capture classification report for Logistic Regression with SMOTE\n",
    "report_smote = classification_report(y_test, y_preds_smote, output_dict=True)\n",
    "\n",
    "# Capture classification report for XGBoost with tuned threshold\n",
    "report_xgb_tuned = classification_report(y_test, y_preds_xgb_tuned, output_dict=True)\n",
    "\n",
    "# Convert reports to DataFrames\n",
    "df_smote = pd.DataFrame(report_smote).transpose()\n",
    "df_xgb_tuned = pd.DataFrame(report_xgb_tuned).transpose()\n",
    "\n",
    "# Combine the two reports for side-by-side comparison\n",
    "comparison_table = pd.concat([df_smote.add_suffix('_SMOTE'), df_xgb_tuned.add_suffix('_XGB_Tuned')], axis=1)\n",
    "\n",
    "# Display the comparison table\n",
    "print(comparison_table)"
   ]
  },
  {
   "cell_type": "code",
   "execution_count": 23,
   "metadata": {},
   "outputs": [
    {
     "data": {
      "image/png": "[encoded data removed]",
      "text/plain": [
       "<Figure size 1000x600 with 1 Axes>"
      ]
     },
     "metadata": {},
     "output_type": "display_data"
    }
   ],
   "source": [
    "import matplotlib.pyplot as plt\n",
    "import seaborn as sns\n",
    "\n",
    "# Get feature importances from trained XGBoost model\n",
    "feature_importances = xgb_model.feature_importances_\n",
    "feature_names = X_train_selected.columns\n",
    "\n",
    "# Create a DataFrame for visualization\n",
    "importance_df = pd.DataFrame({'Feature': feature_names, 'Importance': feature_importances})\n",
    "importance_df = importance_df.sort_values(by='Importance', ascending=False)\n",
    "\n",
    "# Plot feature importances\n",
    "plt.figure(figsize=(10, 6))\n",
    "sns.barplot(x=importance_df['Importance'], y=importance_df['Feature'], palette='viridis')\n",
    "plt.xlabel(\"Feature Importance Score\")\n",
    "plt.ylabel(\"Features\")\n",
    "plt.title(\"Feature Importance from XGBoost Model\")\n",
    "plt.show()\n"
   ]
  },
  {
   "cell_type": "markdown",
   "metadata": {},
   "source": [
    "# **TESTING**\n",
    " - **Include all unit testing below**\n"
   ]
  },
  {
   "cell_type": "code",
   "execution_count": 24,
   "metadata": {},
   "outputs": [
    {
     "data": {
      "text/plain": [
       "<bound method NDFrame.describe of        gender   age  hypertension  heart_disease    bmi  HbA1c_level  \\\n",
       "0           0  80.0             0              1  25.19          6.6   \n",
       "1           0  54.0             0              0  27.32          6.6   \n",
       "2           1  28.0             0              0  27.32          5.7   \n",
       "3           0  36.0             0              0  23.45          5.0   \n",
       "4           1  76.0             1              1  20.14          4.8   \n",
       "...       ...   ...           ...            ...    ...          ...   \n",
       "99995       0  80.0             0              0  27.32          6.2   \n",
       "99996       0   2.0             0              0  17.37          6.5   \n",
       "99997       1  66.0             0              0  27.83          5.7   \n",
       "99998       0  24.0             0              0  35.42          4.0   \n",
       "99999       0  57.0             0              0  22.43          6.6   \n",
       "\n",
       "       blood_glucose_level  diabetes  smoking_history_current  \\\n",
       "0                      140         0                    False   \n",
       "1                       80         0                    False   \n",
       "2                      158         0                    False   \n",
       "3                      155         0                     True   \n",
       "4                      155         0                     True   \n",
       "...                    ...       ...                      ...   \n",
       "99995                   90         0                    False   \n",
       "99996                  100         0                    False   \n",
       "99997                  155         0                    False   \n",
       "99998                  100         0                    False   \n",
       "99999                   90         0                     True   \n",
       "\n",
       "       smoking_history_ever  smoking_history_former  smoking_history_never  \\\n",
       "0                     False                   False                   True   \n",
       "1                     False                   False                  False   \n",
       "2                     False                   False                   True   \n",
       "3                     False                   False                  False   \n",
       "4                     False                   False                  False   \n",
       "...                     ...                     ...                    ...   \n",
       "99995                 False                   False                  False   \n",
       "99996                 False                   False                  False   \n",
       "99997                 False                    True                  False   \n",
       "99998                 False                   False                   True   \n",
       "99999                 False                   False                  False   \n",
       "\n",
       "       smoking_history_not current  \n",
       "0                            False  \n",
       "1                            False  \n",
       "2                            False  \n",
       "3                            False  \n",
       "4                            False  \n",
       "...                            ...  \n",
       "99995                        False  \n",
       "99996                        False  \n",
       "99997                        False  \n",
       "99998                        False  \n",
       "99999                        False  \n",
       "\n",
       "[100000 rows x 13 columns]>"
      ]
     },
     "execution_count": 24,
     "metadata": {},
     "output_type": "execute_result"
    }
   ],
   "source": [
    "df.describe"
   ]
  },
  {
   "cell_type": "code",
   "execution_count": 25,
   "metadata": {},
   "outputs": [
    {
     "data": {
      "text/plain": [
       "<bound method DataFrame.info of        gender   age  hypertension  heart_disease    bmi  HbA1c_level  \\\n",
       "0           0  80.0             0              1  25.19          6.6   \n",
       "1           0  54.0             0              0  27.32          6.6   \n",
       "2           1  28.0             0              0  27.32          5.7   \n",
       "3           0  36.0             0              0  23.45          5.0   \n",
       "4           1  76.0             1              1  20.14          4.8   \n",
       "...       ...   ...           ...            ...    ...          ...   \n",
       "99995       0  80.0             0              0  27.32          6.2   \n",
       "99996       0   2.0             0              0  17.37          6.5   \n",
       "99997       1  66.0             0              0  27.83          5.7   \n",
       "99998       0  24.0             0              0  35.42          4.0   \n",
       "99999       0  57.0             0              0  22.43          6.6   \n",
       "\n",
       "       blood_glucose_level  diabetes  smoking_history_current  \\\n",
       "0                      140         0                    False   \n",
       "1                       80         0                    False   \n",
       "2                      158         0                    False   \n",
       "3                      155         0                     True   \n",
       "4                      155         0                     True   \n",
       "...                    ...       ...                      ...   \n",
       "99995                   90         0                    False   \n",
       "99996                  100         0                    False   \n",
       "99997                  155         0                    False   \n",
       "99998                  100         0                    False   \n",
       "99999                   90         0                     True   \n",
       "\n",
       "       smoking_history_ever  smoking_history_former  smoking_history_never  \\\n",
       "0                     False                   False                   True   \n",
       "1                     False                   False                  False   \n",
       "2                     False                   False                   True   \n",
       "3                     False                   False                  False   \n",
       "4                     False                   False                  False   \n",
       "...                     ...                     ...                    ...   \n",
       "99995                 False                   False                  False   \n",
       "99996                 False                   False                  False   \n",
       "99997                 False                    True                  False   \n",
       "99998                 False                   False                   True   \n",
       "99999                 False                   False                  False   \n",
       "\n",
       "       smoking_history_not current  \n",
       "0                            False  \n",
       "1                            False  \n",
       "2                            False  \n",
       "3                            False  \n",
       "4                            False  \n",
       "...                            ...  \n",
       "99995                        False  \n",
       "99996                        False  \n",
       "99997                        False  \n",
       "99998                        False  \n",
       "99999                        False  \n",
       "\n",
       "[100000 rows x 13 columns]>"
      ]
     },
     "execution_count": 25,
     "metadata": {},
     "output_type": "execute_result"
    }
   ],
   "source": [
    "df.info"
   ]
  },
  {
   "cell_type": "code",
   "execution_count": 26,
   "metadata": {},
   "outputs": [
    {
     "name": "stdout",
     "output_type": "stream",
     "text": [
      "   id                      model_name  threshold  precision    recall  \\\n",
      "0   1             Logistic Regression        0.5   0.860870  0.640588   \n",
      "1   2     Logistic Regression (SMOTE)        0.5   0.532736  0.804118   \n",
      "2   3  XGBoost (Default threshold 50)        0.5   0.860870  0.640588   \n",
      "3   4   iXGBoost (Tuned threshold 40)        0.4   0.860870  0.640588   \n",
      "\n",
      "   f1_score  accuracy        run_timestamp  \n",
      "0  0.734570   0.96065  2025-03-17 12:07:41  \n",
      "1  0.640881   0.92340  2025-03-17 12:07:50  \n",
      "2  0.734570   0.96065  2025-03-17 12:07:55  \n",
      "3  0.734570   0.96065  2025-03-17 12:07:56  \n"
     ]
    }
   ],
   "source": [
    "import pandas as pd\n",
    "\n",
    "# Load stored results into a DataFrame\n",
    "conn = sqlite3.connect(\"diabetes_results.db\")\n",
    "df_results = pd.read_sql(\"SELECT * FROM model_results\", conn)\n",
    "conn.close()\n",
    "\n",
    "# Display results\n",
    "print(df_results)\n"
   ]
  },
  {
   "cell_type": "code",
   "execution_count": 33,
   "metadata": {},
   "outputs": [
    {
     "data": {
      "image/png": "[encoded data removed]",
      "text/plain": [
       "<Figure size 1200x600 with 1 Axes>"
      ]
     },
     "metadata": {},
     "output_type": "display_data"
    }
   ],
   "source": [
    "# Re-import necessary libraries\n",
    "import sqlite3\n",
    "import pandas as pd\n",
    "import matplotlib.pyplot as plt\n",
    "import seaborn as sns\n",
    "\n",
    "# Load stored results into a DataFrame\n",
    "conn = sqlite3.connect(\"diabetes_results.db\")\n",
    "df_results = pd.read_sql(\"SELECT * FROM model_results\", conn)\n",
    "conn.close()\n",
    "\n",
    "# Set dark plot style\n",
    "plt.style.use(\"dark_background\")\n",
    "\n",
    "# Set figure size\n",
    "plt.figure(figsize=(12, 6))\n",
    "\n",
    "# Reshape DataFrame for seaborn compatibility\n",
    "df_melted = df_results.melt(id_vars='model_name', value_vars=['precision', 'recall', 'accuracy'],\n",
    "                            var_name='metric', value_name='score')\n",
    "\n",
    "# Define brighter colors explicitly\n",
    "palette = {\"precision\": \"#FF4500\", \"recall\": \"#32CD32\", \"accuracy\": \"#1E90FF\"}\n",
    "\n",
    "# Create grouped bar plot\n",
    "sns.barplot(data=df_melted, x=\"model_name\", y=\"score\", hue=\"metric\", palette=palette)\n",
    "\n",
    "# Customize the plot\n",
    "plt.xlabel(\"Model Name\")\n",
    "plt.ylabel(\"Score\")\n",
    "plt.xticks(rotation=20, ha=\"right\")\n",
    "plt.title(\"Model Performance Comparison: Precision, Recall, and Accuracy\")\n",
    "plt.legend(title='Metrics', loc='lower right')\n",
    "\n",
    "\n",
    "# Show plot\n",
    "plt.show()\n"
   ]
  },
  {
   "cell_type": "markdown",
   "metadata": {},
   "source": [
    "**Legend**  \n",
    "    -   **precision: higher the precision, the fewer the false alarms**     \n",
    "    -   **recall: higher the recall, the model accurately identifies who are diabetic**    "
   ]
  },
  {
   "cell_type": "markdown",
   "metadata": {},
   "source": []
  }
 ],
 "metadata": {
  "colab": {
   "provenance": []
  },
  "kernelspec": {
   "display_name": "Python 3 (ipykernel)",
   "language": "python",
   "name": "python3"
  },
  "language_info": {
   "codemirror_mode": {
    "name": "ipython",
    "version": 3
   },
   "file_extension": ".py",
   "mimetype": "text/x-python",
   "name": "python",
   "nbconvert_exporter": "python",
   "pygments_lexer": "ipython3",
   "version": "3.10.16"
  }
 },
 "nbformat": 4,
 "nbformat_minor": 4
}
