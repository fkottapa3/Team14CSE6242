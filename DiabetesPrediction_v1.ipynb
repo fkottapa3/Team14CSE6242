{
 "cells": [
  {
   "cell_type": "code",
   "execution_count": 1,
   "metadata": {
    "colab": {
     "base_uri": "https://localhost:8080/",
     "height": 73
    },
    "id": "RFP6IbIaB3mQ",
    "outputId": "401a0fa7-15be-4c13-a5aa-6d31f4468909"
   },
   "outputs": [],
   "source": [
    "# Updated March 19, 2025"
   ]
  },
  {
   "cell_type": "code",
   "execution_count": 2,
   "metadata": {},
   "outputs": [],
   "source": [
    "#  import libraries\n",
    "import os\n",
    "import pandas as pd\n",
    "import numpy as np\n",
    "import matplotlib.pyplot as plt\n",
    "import seaborn as sns\n",
    "from sklearn.preprocessing import StandardScaler\n",
    "from sklearn.decomposition import PCA\n",
    "from xgboost import XGBClassifier\n",
    "from sklearn.metrics import accuracy_score, precision_score, recall_score, f1_score, confusion_matrix, classification_report\n",
    "from sklearn.model_selection import train_test_split\n",
    "import warnings\n",
    "warnings.filterwarnings(\"ignore\")"
   ]
  },
  {
   "cell_type": "code",
   "execution_count": 3,
   "metadata": {
    "colab": {
     "base_uri": "https://localhost:8080/",
     "height": 223
    },
    "id": "qXUAWRCZDG4d",
    "outputId": "046ce34b-cb86-45da-d365-e98dbaa18487"
   },
   "outputs": [
    {
     "name": "stdout",
     "output_type": "stream",
     "text": [
      "Dataset Shape: (100000, 9)\n",
      "Missing Values:\n",
      "gender                 0\n",
      "age                    0\n",
      "hypertension           0\n",
      "heart_disease          0\n",
      "smoking_history        0\n",
      "bmi                    0\n",
      "HbA1c_level            0\n",
      "blood_glucose_level    0\n",
      "diabetes               0\n",
      "dtype: int64\n",
      "Duplicate Rows: 3854\n"
     ]
    },
    {
     "data": {
      "text/html": [
       "<div>\n",
       "<style scoped>\n",
       "    .dataframe tbody tr th:only-of-type {\n",
       "        vertical-align: middle;\n",
       "    }\n",
       "\n",
       "    .dataframe tbody tr th {\n",
       "        vertical-align: top;\n",
       "    }\n",
       "\n",
       "    .dataframe thead th {\n",
       "        text-align: right;\n",
       "    }\n",
       "</style>\n",
       "<table border=\"1\" class=\"dataframe\">\n",
       "  <thead>\n",
       "    <tr style=\"text-align: right;\">\n",
       "      <th></th>\n",
       "      <th>gender</th>\n",
       "      <th>age</th>\n",
       "      <th>hypertension</th>\n",
       "      <th>heart_disease</th>\n",
       "      <th>smoking_history</th>\n",
       "      <th>bmi</th>\n",
       "      <th>HbA1c_level</th>\n",
       "      <th>blood_glucose_level</th>\n",
       "      <th>diabetes</th>\n",
       "    </tr>\n",
       "  </thead>\n",
       "  <tbody>\n",
       "    <tr>\n",
       "      <th>0</th>\n",
       "      <td>Female</td>\n",
       "      <td>80.0</td>\n",
       "      <td>0</td>\n",
       "      <td>1</td>\n",
       "      <td>never</td>\n",
       "      <td>25.19</td>\n",
       "      <td>6.6</td>\n",
       "      <td>140</td>\n",
       "      <td>0</td>\n",
       "    </tr>\n",
       "    <tr>\n",
       "      <th>1</th>\n",
       "      <td>Female</td>\n",
       "      <td>54.0</td>\n",
       "      <td>0</td>\n",
       "      <td>0</td>\n",
       "      <td>No Info</td>\n",
       "      <td>27.32</td>\n",
       "      <td>6.6</td>\n",
       "      <td>80</td>\n",
       "      <td>0</td>\n",
       "    </tr>\n",
       "    <tr>\n",
       "      <th>2</th>\n",
       "      <td>Male</td>\n",
       "      <td>28.0</td>\n",
       "      <td>0</td>\n",
       "      <td>0</td>\n",
       "      <td>never</td>\n",
       "      <td>27.32</td>\n",
       "      <td>5.7</td>\n",
       "      <td>158</td>\n",
       "      <td>0</td>\n",
       "    </tr>\n",
       "    <tr>\n",
       "      <th>3</th>\n",
       "      <td>Female</td>\n",
       "      <td>36.0</td>\n",
       "      <td>0</td>\n",
       "      <td>0</td>\n",
       "      <td>current</td>\n",
       "      <td>23.45</td>\n",
       "      <td>5.0</td>\n",
       "      <td>155</td>\n",
       "      <td>0</td>\n",
       "    </tr>\n",
       "    <tr>\n",
       "      <th>4</th>\n",
       "      <td>Male</td>\n",
       "      <td>76.0</td>\n",
       "      <td>1</td>\n",
       "      <td>1</td>\n",
       "      <td>current</td>\n",
       "      <td>20.14</td>\n",
       "      <td>4.8</td>\n",
       "      <td>155</td>\n",
       "      <td>0</td>\n",
       "    </tr>\n",
       "  </tbody>\n",
       "</table>\n",
       "</div>"
      ],
      "text/plain": [
       "   gender   age  hypertension  heart_disease smoking_history    bmi  \\\n",
       "0  Female  80.0             0              1           never  25.19   \n",
       "1  Female  54.0             0              0         No Info  27.32   \n",
       "2    Male  28.0             0              0           never  27.32   \n",
       "3  Female  36.0             0              0         current  23.45   \n",
       "4    Male  76.0             1              1         current  20.14   \n",
       "\n",
       "   HbA1c_level  blood_glucose_level  diabetes  \n",
       "0          6.6                  140         0  \n",
       "1          6.6                   80         0  \n",
       "2          5.7                  158         0  \n",
       "3          5.0                  155         0  \n",
       "4          4.8                  155         0  "
      ]
     },
     "execution_count": 3,
     "metadata": {},
     "output_type": "execute_result"
    }
   ],
   "source": [
    "file_path = os.path.join(\"data\", \"diabetes_prediction_dataset.csv\")\n",
    "df = pd.read_csv(file_path)\n",
    "# df = pd.read_csv(\"C:/Users/USSB697670/Desktop/GeorgiaTech/Data_Visual_Analytics/Project/diabetes_prediction_dataset.csv\")\n",
    "\n",
    "print(f\"Dataset Shape: {df.shape}\")\n",
    "print(f\"Missing Values:\\n{df.isnull().sum()}\")\n",
    "print(f\"Duplicate Rows: {df.duplicated().sum()}\")\n",
    "\n",
    "\n",
    "df.head()"
   ]
  },
  {
   "cell_type": "markdown",
   "metadata": {},
   "source": [
    "**check for duplicates**"
   ]
  },
  {
   "cell_type": "code",
   "execution_count": 4,
   "metadata": {},
   "outputs": [
    {
     "data": {
      "text/html": [
       "<div>\n",
       "<style scoped>\n",
       "    .dataframe tbody tr th:only-of-type {\n",
       "        vertical-align: middle;\n",
       "    }\n",
       "\n",
       "    .dataframe tbody tr th {\n",
       "        vertical-align: top;\n",
       "    }\n",
       "\n",
       "    .dataframe thead th {\n",
       "        text-align: right;\n",
       "    }\n",
       "</style>\n",
       "<table border=\"1\" class=\"dataframe\">\n",
       "  <thead>\n",
       "    <tr style=\"text-align: right;\">\n",
       "      <th></th>\n",
       "      <th>gender</th>\n",
       "      <th>age</th>\n",
       "      <th>hypertension</th>\n",
       "      <th>heart_disease</th>\n",
       "      <th>smoking_history</th>\n",
       "      <th>bmi</th>\n",
       "      <th>HbA1c_level</th>\n",
       "      <th>blood_glucose_level</th>\n",
       "      <th>diabetes</th>\n",
       "    </tr>\n",
       "  </thead>\n",
       "  <tbody>\n",
       "    <tr>\n",
       "      <th>2756</th>\n",
       "      <td>Male</td>\n",
       "      <td>80.0</td>\n",
       "      <td>0</td>\n",
       "      <td>0</td>\n",
       "      <td>No Info</td>\n",
       "      <td>27.32</td>\n",
       "      <td>6.6</td>\n",
       "      <td>159</td>\n",
       "      <td>0</td>\n",
       "    </tr>\n",
       "    <tr>\n",
       "      <th>3272</th>\n",
       "      <td>Female</td>\n",
       "      <td>80.0</td>\n",
       "      <td>0</td>\n",
       "      <td>0</td>\n",
       "      <td>No Info</td>\n",
       "      <td>27.32</td>\n",
       "      <td>3.5</td>\n",
       "      <td>80</td>\n",
       "      <td>0</td>\n",
       "    </tr>\n",
       "    <tr>\n",
       "      <th>3418</th>\n",
       "      <td>Female</td>\n",
       "      <td>19.0</td>\n",
       "      <td>0</td>\n",
       "      <td>0</td>\n",
       "      <td>No Info</td>\n",
       "      <td>27.32</td>\n",
       "      <td>6.5</td>\n",
       "      <td>100</td>\n",
       "      <td>0</td>\n",
       "    </tr>\n",
       "    <tr>\n",
       "      <th>3939</th>\n",
       "      <td>Female</td>\n",
       "      <td>78.0</td>\n",
       "      <td>1</td>\n",
       "      <td>0</td>\n",
       "      <td>former</td>\n",
       "      <td>27.32</td>\n",
       "      <td>3.5</td>\n",
       "      <td>130</td>\n",
       "      <td>0</td>\n",
       "    </tr>\n",
       "    <tr>\n",
       "      <th>3960</th>\n",
       "      <td>Male</td>\n",
       "      <td>47.0</td>\n",
       "      <td>0</td>\n",
       "      <td>0</td>\n",
       "      <td>No Info</td>\n",
       "      <td>27.32</td>\n",
       "      <td>6.0</td>\n",
       "      <td>200</td>\n",
       "      <td>0</td>\n",
       "    </tr>\n",
       "    <tr>\n",
       "      <th>4106</th>\n",
       "      <td>Female</td>\n",
       "      <td>51.0</td>\n",
       "      <td>0</td>\n",
       "      <td>0</td>\n",
       "      <td>No Info</td>\n",
       "      <td>27.32</td>\n",
       "      <td>6.6</td>\n",
       "      <td>200</td>\n",
       "      <td>0</td>\n",
       "    </tr>\n",
       "    <tr>\n",
       "      <th>4128</th>\n",
       "      <td>Female</td>\n",
       "      <td>80.0</td>\n",
       "      <td>0</td>\n",
       "      <td>0</td>\n",
       "      <td>never</td>\n",
       "      <td>27.32</td>\n",
       "      <td>5.7</td>\n",
       "      <td>85</td>\n",
       "      <td>0</td>\n",
       "    </tr>\n",
       "    <tr>\n",
       "      <th>4224</th>\n",
       "      <td>Male</td>\n",
       "      <td>80.0</td>\n",
       "      <td>1</td>\n",
       "      <td>0</td>\n",
       "      <td>former</td>\n",
       "      <td>27.32</td>\n",
       "      <td>6.2</td>\n",
       "      <td>130</td>\n",
       "      <td>0</td>\n",
       "    </tr>\n",
       "    <tr>\n",
       "      <th>4263</th>\n",
       "      <td>Male</td>\n",
       "      <td>80.0</td>\n",
       "      <td>0</td>\n",
       "      <td>0</td>\n",
       "      <td>No Info</td>\n",
       "      <td>27.32</td>\n",
       "      <td>6.0</td>\n",
       "      <td>100</td>\n",
       "      <td>0</td>\n",
       "    </tr>\n",
       "    <tr>\n",
       "      <th>4486</th>\n",
       "      <td>Male</td>\n",
       "      <td>50.0</td>\n",
       "      <td>0</td>\n",
       "      <td>0</td>\n",
       "      <td>No Info</td>\n",
       "      <td>27.32</td>\n",
       "      <td>4.8</td>\n",
       "      <td>155</td>\n",
       "      <td>0</td>\n",
       "    </tr>\n",
       "  </tbody>\n",
       "</table>\n",
       "</div>"
      ],
      "text/plain": [
       "      gender   age  hypertension  heart_disease smoking_history    bmi  \\\n",
       "2756    Male  80.0             0              0         No Info  27.32   \n",
       "3272  Female  80.0             0              0         No Info  27.32   \n",
       "3418  Female  19.0             0              0         No Info  27.32   \n",
       "3939  Female  78.0             1              0          former  27.32   \n",
       "3960    Male  47.0             0              0         No Info  27.32   \n",
       "4106  Female  51.0             0              0         No Info  27.32   \n",
       "4128  Female  80.0             0              0           never  27.32   \n",
       "4224    Male  80.0             1              0          former  27.32   \n",
       "4263    Male  80.0             0              0         No Info  27.32   \n",
       "4486    Male  50.0             0              0         No Info  27.32   \n",
       "\n",
       "      HbA1c_level  blood_glucose_level  diabetes  \n",
       "2756          6.6                  159         0  \n",
       "3272          3.5                   80         0  \n",
       "3418          6.5                  100         0  \n",
       "3939          3.5                  130         0  \n",
       "3960          6.0                  200         0  \n",
       "4106          6.6                  200         0  \n",
       "4128          5.7                   85         0  \n",
       "4224          6.2                  130         0  \n",
       "4263          6.0                  100         0  \n",
       "4486          4.8                  155         0  "
      ]
     },
     "metadata": {},
     "output_type": "display_data"
    },
    {
     "name": "stdout",
     "output_type": "stream",
     "text": [
      "Dataset Shape After Removing Duplicates: (96146, 9)\n"
     ]
    }
   ],
   "source": [
    "duplicate_rows = df[df.duplicated()]\n",
    "display(duplicate_rows.head(10))\n",
    "df = df.drop_duplicates().reset_index(drop=True)\n",
    "print(f\"Dataset Shape After Removing Duplicates: {df.shape}\")\n"
   ]
  },
  {
   "cell_type": "markdown",
   "metadata": {
    "id": "VbsZO9h1vLJK"
   },
   "source": [
    "# Exploratory Data Analysis"
   ]
  },
  {
   "cell_type": "markdown",
   "metadata": {},
   "source": [
    "Checking missing value"
   ]
  },
  {
   "cell_type": "code",
   "execution_count": 5,
   "metadata": {},
   "outputs": [
    {
     "data": {
      "image/png": "[encoded data removed]",
      "text/plain": [
       "<Figure size 640x480 with 1 Axes>"
      ]
     },
     "metadata": {},
     "output_type": "display_data"
    }
   ],
   "source": [
    "# print(df.isnull().sum())\n",
    "sns.countplot(x=df['diabetes'], data=df)\n",
    "plt.title('Distribution of Diabetes Outcomes')\n",
    "plt.xlabel('Outcome')\n",
    "plt.ylabel('Count')\n",
    "plt.show()"
   ]
  },
  {
   "cell_type": "markdown",
   "metadata": {},
   "source": [
    "Label Encoder"
   ]
  },
  {
   "cell_type": "markdown",
   "metadata": {},
   "source": [
    "**Review the categorical variables**\n",
    " - **if needed, we will use label encoding**"
   ]
  },
  {
   "cell_type": "code",
   "execution_count": 6,
   "metadata": {},
   "outputs": [
    {
     "name": "stdout",
     "output_type": "stream",
     "text": [
      "Unique values in 'gender': ['Female' 'Male' 'Other']\n",
      "Unique values in 'smoking_history': ['never' 'No Info' 'current' 'former' 'ever' 'not current']\n"
     ]
    }
   ],
   "source": [
    "# Check unique values for 'gender'\n",
    "print(\"Unique values in 'gender':\", df['gender'].unique())\n",
    "\n",
    "# Check unique values for 'smoking_history'\n",
    "print(\"Unique values in 'smoking_history':\", df['smoking_history'].unique())\n"
   ]
  },
  {
   "cell_type": "markdown",
   "metadata": {},
   "source": [
    "**Since Gender has 3 values, we can keep the Label encoding as-is**\n",
    "**However, smoking_history has 6 values, so we will use one-hot encoding**\n"
   ]
  },
  {
   "cell_type": "code",
   "execution_count": 7,
   "metadata": {},
   "outputs": [],
   "source": [
    "# Encode 'gender'\n",
    "from sklearn.preprocessing import LabelEncoder\n",
    "le = LabelEncoder()\n",
    "df['gender'] = le.fit_transform(df['gender'])\n"
   ]
  },
  {
   "cell_type": "markdown",
   "metadata": {},
   "source": [
    "**Encoding smoking_history for RandomForest**"
   ]
  },
  {
   "cell_type": "code",
   "execution_count": 8,
   "metadata": {},
   "outputs": [],
   "source": [
    "# Encode 'smoking_history' using LabelEncoder\n",
    "# df_original = pd.read_csv(file_path)\n",
    "# Restore 'smoking_history' if missing\n",
    "if 'smoking_history' not in df.columns:\n",
    "    df_original = pd.read_csv(file_path)  # Load fresh dataset\n",
    "    df['smoking_history'] = df_original['smoking_history']\n",
    "\n",
    "le_smoking = LabelEncoder()\n",
    "df['smoking_history_encoded'] = le_smoking.fit_transform(df['smoking_history'])\n",
    "\n",
    "# Use encoded version\n",
    "selected_features_random_forest = [\"HbA1c_level\", \"blood_glucose_level\", \"bmi\", \"age\", \n",
    "                                   \"hypertension\", \"heart_disease\", \"smoking_history_encoded\"]"
   ]
  },
  {
   "cell_type": "markdown",
   "metadata": {},
   "source": [
    "**Encoding smoking_history for all models except RandomForest**"
   ]
  },
  {
   "cell_type": "code",
   "execution_count": 9,
   "metadata": {},
   "outputs": [
    {
     "name": "stdout",
     "output_type": "stream",
     "text": [
      "Updated Columns after Encoding: Index(['gender', 'age', 'hypertension', 'heart_disease', 'bmi', 'HbA1c_level',\n",
      "       'blood_glucose_level', 'diabetes', 'smoking_encoded'],\n",
      "      dtype='object')\n"
     ]
    },
    {
     "data": {
      "text/html": [
       "<div>\n",
       "<style scoped>\n",
       "    .dataframe tbody tr th:only-of-type {\n",
       "        vertical-align: middle;\n",
       "    }\n",
       "\n",
       "    .dataframe tbody tr th {\n",
       "        vertical-align: top;\n",
       "    }\n",
       "\n",
       "    .dataframe thead th {\n",
       "        text-align: right;\n",
       "    }\n",
       "</style>\n",
       "<table border=\"1\" class=\"dataframe\">\n",
       "  <thead>\n",
       "    <tr style=\"text-align: right;\">\n",
       "      <th></th>\n",
       "      <th>gender</th>\n",
       "      <th>age</th>\n",
       "      <th>hypertension</th>\n",
       "      <th>heart_disease</th>\n",
       "      <th>bmi</th>\n",
       "      <th>HbA1c_level</th>\n",
       "      <th>blood_glucose_level</th>\n",
       "      <th>diabetes</th>\n",
       "      <th>smoking_encoded</th>\n",
       "    </tr>\n",
       "  </thead>\n",
       "  <tbody>\n",
       "    <tr>\n",
       "      <th>0</th>\n",
       "      <td>0</td>\n",
       "      <td>80.0</td>\n",
       "      <td>0</td>\n",
       "      <td>1</td>\n",
       "      <td>25.19</td>\n",
       "      <td>6.6</td>\n",
       "      <td>140</td>\n",
       "      <td>0</td>\n",
       "      <td>0.097011</td>\n",
       "    </tr>\n",
       "    <tr>\n",
       "      <th>1</th>\n",
       "      <td>0</td>\n",
       "      <td>54.0</td>\n",
       "      <td>0</td>\n",
       "      <td>0</td>\n",
       "      <td>27.32</td>\n",
       "      <td>6.6</td>\n",
       "      <td>80</td>\n",
       "      <td>0</td>\n",
       "      <td>0.043938</td>\n",
       "    </tr>\n",
       "    <tr>\n",
       "      <th>2</th>\n",
       "      <td>1</td>\n",
       "      <td>28.0</td>\n",
       "      <td>0</td>\n",
       "      <td>0</td>\n",
       "      <td>27.32</td>\n",
       "      <td>5.7</td>\n",
       "      <td>158</td>\n",
       "      <td>0</td>\n",
       "      <td>0.097011</td>\n",
       "    </tr>\n",
       "    <tr>\n",
       "      <th>3</th>\n",
       "      <td>0</td>\n",
       "      <td>36.0</td>\n",
       "      <td>0</td>\n",
       "      <td>0</td>\n",
       "      <td>23.45</td>\n",
       "      <td>5.0</td>\n",
       "      <td>155</td>\n",
       "      <td>0</td>\n",
       "      <td>0.103077</td>\n",
       "    </tr>\n",
       "    <tr>\n",
       "      <th>4</th>\n",
       "      <td>1</td>\n",
       "      <td>76.0</td>\n",
       "      <td>1</td>\n",
       "      <td>1</td>\n",
       "      <td>20.14</td>\n",
       "      <td>4.8</td>\n",
       "      <td>155</td>\n",
       "      <td>0</td>\n",
       "      <td>0.103077</td>\n",
       "    </tr>\n",
       "  </tbody>\n",
       "</table>\n",
       "</div>"
      ],
      "text/plain": [
       "   gender   age  hypertension  heart_disease    bmi  HbA1c_level  \\\n",
       "0       0  80.0             0              1  25.19          6.6   \n",
       "1       0  54.0             0              0  27.32          6.6   \n",
       "2       1  28.0             0              0  27.32          5.7   \n",
       "3       0  36.0             0              0  23.45          5.0   \n",
       "4       1  76.0             1              1  20.14          4.8   \n",
       "\n",
       "   blood_glucose_level  diabetes  smoking_encoded  \n",
       "0                  140         0         0.097011  \n",
       "1                   80         0         0.043938  \n",
       "2                  158         0         0.097011  \n",
       "3                  155         0         0.103077  \n",
       "4                  155         0         0.103077  "
      ]
     },
     "metadata": {},
     "output_type": "display_data"
    }
   ],
   "source": [
    "# Implementing Target Encoding for 'smoking_history'\n",
    "# Assuming the dataset contains a binary target variable 'diabetes'\n",
    "\n",
    "# Calculate mean diabetes rate per smoking category (Target Encoding)\n",
    "df['smoking_encoded'] = df.groupby('smoking_history')['diabetes'].transform('mean')\n",
    "\n",
    "# Drop original smoking_history columns after target encoding\n",
    "df.drop(columns=[col for col in df.columns if 'smoking_history' in col], inplace=True)\n",
    "\n",
    "# Display updated column names after encoding\n",
    "print(\"Updated Columns after Encoding:\", df.columns)\n",
    "\n",
    "# Display first few rows to verify encoding\n",
    "display(df.head())"
   ]
  },
  {
   "cell_type": "code",
   "execution_count": 10,
   "metadata": {},
   "outputs": [
    {
     "data": {
      "text/html": [
       "<div>\n",
       "<style scoped>\n",
       "    .dataframe tbody tr th:only-of-type {\n",
       "        vertical-align: middle;\n",
       "    }\n",
       "\n",
       "    .dataframe tbody tr th {\n",
       "        vertical-align: top;\n",
       "    }\n",
       "\n",
       "    .dataframe thead th {\n",
       "        text-align: right;\n",
       "    }\n",
       "</style>\n",
       "<table border=\"1\" class=\"dataframe\">\n",
       "  <thead>\n",
       "    <tr style=\"text-align: right;\">\n",
       "      <th></th>\n",
       "      <th>gender</th>\n",
       "      <th>age</th>\n",
       "      <th>hypertension</th>\n",
       "      <th>heart_disease</th>\n",
       "      <th>bmi</th>\n",
       "      <th>HbA1c_level</th>\n",
       "      <th>blood_glucose_level</th>\n",
       "      <th>diabetes</th>\n",
       "      <th>smoking_encoded</th>\n",
       "    </tr>\n",
       "  </thead>\n",
       "  <tbody>\n",
       "    <tr>\n",
       "      <th>0</th>\n",
       "      <td>0</td>\n",
       "      <td>80.0</td>\n",
       "      <td>0</td>\n",
       "      <td>1</td>\n",
       "      <td>25.19</td>\n",
       "      <td>6.6</td>\n",
       "      <td>140</td>\n",
       "      <td>0</td>\n",
       "      <td>0.097011</td>\n",
       "    </tr>\n",
       "    <tr>\n",
       "      <th>1</th>\n",
       "      <td>0</td>\n",
       "      <td>54.0</td>\n",
       "      <td>0</td>\n",
       "      <td>0</td>\n",
       "      <td>27.32</td>\n",
       "      <td>6.6</td>\n",
       "      <td>80</td>\n",
       "      <td>0</td>\n",
       "      <td>0.043938</td>\n",
       "    </tr>\n",
       "    <tr>\n",
       "      <th>2</th>\n",
       "      <td>1</td>\n",
       "      <td>28.0</td>\n",
       "      <td>0</td>\n",
       "      <td>0</td>\n",
       "      <td>27.32</td>\n",
       "      <td>5.7</td>\n",
       "      <td>158</td>\n",
       "      <td>0</td>\n",
       "      <td>0.097011</td>\n",
       "    </tr>\n",
       "    <tr>\n",
       "      <th>3</th>\n",
       "      <td>0</td>\n",
       "      <td>36.0</td>\n",
       "      <td>0</td>\n",
       "      <td>0</td>\n",
       "      <td>23.45</td>\n",
       "      <td>5.0</td>\n",
       "      <td>155</td>\n",
       "      <td>0</td>\n",
       "      <td>0.103077</td>\n",
       "    </tr>\n",
       "    <tr>\n",
       "      <th>4</th>\n",
       "      <td>1</td>\n",
       "      <td>76.0</td>\n",
       "      <td>1</td>\n",
       "      <td>1</td>\n",
       "      <td>20.14</td>\n",
       "      <td>4.8</td>\n",
       "      <td>155</td>\n",
       "      <td>0</td>\n",
       "      <td>0.103077</td>\n",
       "    </tr>\n",
       "    <tr>\n",
       "      <th>...</th>\n",
       "      <td>...</td>\n",
       "      <td>...</td>\n",
       "      <td>...</td>\n",
       "      <td>...</td>\n",
       "      <td>...</td>\n",
       "      <td>...</td>\n",
       "      <td>...</td>\n",
       "      <td>...</td>\n",
       "      <td>...</td>\n",
       "    </tr>\n",
       "    <tr>\n",
       "      <th>96141</th>\n",
       "      <td>0</td>\n",
       "      <td>36.0</td>\n",
       "      <td>0</td>\n",
       "      <td>0</td>\n",
       "      <td>24.60</td>\n",
       "      <td>4.8</td>\n",
       "      <td>145</td>\n",
       "      <td>0</td>\n",
       "      <td>0.043938</td>\n",
       "    </tr>\n",
       "    <tr>\n",
       "      <th>96142</th>\n",
       "      <td>0</td>\n",
       "      <td>2.0</td>\n",
       "      <td>0</td>\n",
       "      <td>0</td>\n",
       "      <td>17.37</td>\n",
       "      <td>6.5</td>\n",
       "      <td>100</td>\n",
       "      <td>0</td>\n",
       "      <td>0.043938</td>\n",
       "    </tr>\n",
       "    <tr>\n",
       "      <th>96143</th>\n",
       "      <td>1</td>\n",
       "      <td>66.0</td>\n",
       "      <td>0</td>\n",
       "      <td>0</td>\n",
       "      <td>27.83</td>\n",
       "      <td>5.7</td>\n",
       "      <td>155</td>\n",
       "      <td>0</td>\n",
       "      <td>0.170986</td>\n",
       "    </tr>\n",
       "    <tr>\n",
       "      <th>96144</th>\n",
       "      <td>0</td>\n",
       "      <td>24.0</td>\n",
       "      <td>0</td>\n",
       "      <td>0</td>\n",
       "      <td>35.42</td>\n",
       "      <td>4.0</td>\n",
       "      <td>100</td>\n",
       "      <td>0</td>\n",
       "      <td>0.097011</td>\n",
       "    </tr>\n",
       "    <tr>\n",
       "      <th>96145</th>\n",
       "      <td>0</td>\n",
       "      <td>57.0</td>\n",
       "      <td>0</td>\n",
       "      <td>0</td>\n",
       "      <td>22.43</td>\n",
       "      <td>6.6</td>\n",
       "      <td>90</td>\n",
       "      <td>0</td>\n",
       "      <td>0.103077</td>\n",
       "    </tr>\n",
       "  </tbody>\n",
       "</table>\n",
       "<p>96146 rows × 9 columns</p>\n",
       "</div>"
      ],
      "text/plain": [
       "       gender   age  hypertension  heart_disease    bmi  HbA1c_level  \\\n",
       "0           0  80.0             0              1  25.19          6.6   \n",
       "1           0  54.0             0              0  27.32          6.6   \n",
       "2           1  28.0             0              0  27.32          5.7   \n",
       "3           0  36.0             0              0  23.45          5.0   \n",
       "4           1  76.0             1              1  20.14          4.8   \n",
       "...       ...   ...           ...            ...    ...          ...   \n",
       "96141       0  36.0             0              0  24.60          4.8   \n",
       "96142       0   2.0             0              0  17.37          6.5   \n",
       "96143       1  66.0             0              0  27.83          5.7   \n",
       "96144       0  24.0             0              0  35.42          4.0   \n",
       "96145       0  57.0             0              0  22.43          6.6   \n",
       "\n",
       "       blood_glucose_level  diabetes  smoking_encoded  \n",
       "0                      140         0         0.097011  \n",
       "1                       80         0         0.043938  \n",
       "2                      158         0         0.097011  \n",
       "3                      155         0         0.103077  \n",
       "4                      155         0         0.103077  \n",
       "...                    ...       ...              ...  \n",
       "96141                  145         0         0.043938  \n",
       "96142                  100         0         0.043938  \n",
       "96143                  155         0         0.170986  \n",
       "96144                  100         0         0.097011  \n",
       "96145                   90         0         0.103077  \n",
       "\n",
       "[96146 rows x 9 columns]"
      ]
     },
     "execution_count": 10,
     "metadata": {},
     "output_type": "execute_result"
    }
   ],
   "source": [
    "df"
   ]
  },
  {
   "cell_type": "code",
   "execution_count": 11,
   "metadata": {},
   "outputs": [],
   "source": [
    "import sqlite3\n",
    "\n",
    "# Connect to SQLite database (creates if it doesn’t exist)\n",
    "conn = sqlite3.connect(\"diabetes_results.db\")\n",
    "cursor = conn.cursor()\n",
    "\n",
    "# Drop the existing table (WARNING: This will delete all previous results)\n",
    "cursor.execute(\"DROP TABLE IF EXISTS model_results\")\n",
    "\n",
    "\n",
    "# Create table for storing model results\n",
    "cursor.execute(\"\"\"\n",
    "    CREATE TABLE IF NOT EXISTS model_results (\n",
    "        id INTEGER PRIMARY KEY AUTOINCREMENT,\n",
    "        model_name TEXT,\n",
    "        data_type TEXT,\n",
    "        threshold REAL,\n",
    "        precision REAL,\n",
    "        recall REAL,\n",
    "        f1_score REAL,\n",
    "        accuracy REAL,\n",
    "        run_timestamp DATETIME DEFAULT CURRENT_TIMESTAMP\n",
    "    )\n",
    "\"\"\")\n",
    "conn.commit()\n",
    "conn.close()\n"
   ]
  },
  {
   "cell_type": "code",
   "execution_count": 12,
   "metadata": {},
   "outputs": [],
   "source": [
    "import sqlite3\n",
    "from sklearn.metrics import classification_report\n",
    "\n",
    "def store_classification_results(model_name, data_type, threshold, y_true, y_pred):\n",
    "    \"\"\"Extract classification metrics and store them in SQLite\"\"\"\n",
    "    \n",
    "    report = classification_report(y_true, y_pred, output_dict=True)\n",
    "    \n",
    "    # Extract key metrics\n",
    "    precision = report[\"1\"][\"precision\"]\n",
    "    recall = report[\"1\"][\"recall\"]\n",
    "    f1_score = report[\"1\"][\"f1-score\"]\n",
    "    accuracy = report[\"accuracy\"]\n",
    "    \n",
    "    # Store in SQLite database\n",
    "    conn = sqlite3.connect(\"diabetes_results.db\")\n",
    "    cursor = conn.cursor()\n",
    "\n",
    "    # Check if this model run already exists\n",
    "    cursor.execute(\"\"\"\n",
    "        SELECT COUNT(*) FROM model_results\n",
    "        WHERE model_name = ? AND data_type = ? AND threshold = ? AND precision = ? AND recall = ? AND accuracy = ?\n",
    "    \"\"\", (model_name, data_type, threshold, precision, recall, accuracy))\n",
    "\n",
    "    cursor.execute(\"\"\"\n",
    "        INSERT INTO model_results (model_name, data_type, threshold, precision, recall, f1_score, accuracy)\n",
    "        VALUES (?, ?, ?, ?, ?, ?, ?)\n",
    "    \"\"\", (model_name, data_type, threshold, precision, recall, f1_score, accuracy))\n",
    "    \n",
    "    conn.commit()\n",
    "    conn.close()\n",
    "    \n",
    "    print(f\"Results stored successfully: {model_name} (Threshold: {threshold})\")\n",
    "\n"
   ]
  },
  {
   "cell_type": "markdown",
   "metadata": {},
   "source": [
    "# Feature Importance"
   ]
  },
  {
   "cell_type": "code",
   "execution_count": 13,
   "metadata": {},
   "outputs": [
    {
     "data": {
      "image/png": "[encoded data removed]",
      "text/plain": [
       "<Figure size 1000x600 with 1 Axes>"
      ]
     },
     "metadata": {},
     "output_type": "display_data"
    }
   ],
   "source": [
    "from sklearn.ensemble import ExtraTreesClassifier\n",
    "\n",
    "# Define Features and Target variables\n",
    "X = df.drop('diabetes', axis=1)\n",
    "y = df['diabetes']\n",
    "\n",
    "# Train ExtraTreesClassifier to identify feature importance\n",
    "model = ExtraTreesClassifier()\n",
    "model.fit(X, y)\n",
    "# Get feature importances\n",
    "importances = model.feature_importances_\n",
    "# Create a DataFrame for better visualization\n",
    "feat_importances = pd.DataFrame({'Feature': X.columns, 'Importance': importances})\n",
    "# Sort the DataFrame by importance\n",
    "feat_importances = feat_importances.sort_values(by='Importance', ascending=False)\n",
    "# Plot the feature importances\n",
    "plt.figure(figsize=(10, 6))\n",
    "sns.barplot(x='Importance', y='Feature', data=feat_importances)\n",
    "plt.title('Feature Importances from ExtraTreesClassifier')\n",
    "plt.xlabel('Importance')\n",
    "plt.ylabel('Feature')\n",
    "plt.show()"
   ]
  },
  {
   "cell_type": "markdown",
   "metadata": {},
   "source": [
    "**Feature Selection**"
   ]
  },
  {
   "cell_type": "code",
   "execution_count": 14,
   "metadata": {},
   "outputs": [],
   "source": [
    "# Keep all features for visualization & dashboard interaction\n",
    "X_full = df.drop(columns=[\"diabetes\"])  # Keeps everything except the target variable\n",
    "\n",
    "# Optimized feature set (for model training)\n",
    "selected_features = [\"HbA1c_level\", \"blood_glucose_level\", \"bmi\", \"age\", \"hypertension\", \"heart_disease\", \"smoking_encoded\"]\n",
    "X_selected = df[selected_features]\n",
    "\n",
    "# Target variable remains the same\n",
    "y = df[\"diabetes\"]\n"
   ]
  },
  {
   "cell_type": "markdown",
   "metadata": {},
   "source": [
    "Splitting Data\n"
   ]
  },
  {
   "cell_type": "code",
   "execution_count": 15,
   "metadata": {},
   "outputs": [],
   "source": [
    "# We use StratifiedFold so that each fold in x-validation has the same proportion of diabetic and non-diabetic cases as the original dataset. \n",
    "# Also ensure balanced class distribution in each fold.\n",
    "# Also find the best parameters while preventing overfitting\n",
    "from sklearn.model_selection import StratifiedKFold\n",
    "skf = StratifiedKFold(n_splits=5, shuffle=True, random_state=42)\n",
    "\n",
    "for train_idx, val_idx in skf.split(X_selected, y):\n",
    "    X_train, X_test = X_selected.iloc[train_idx], X_selected.iloc[val_idx]\n",
    "    y_train, y_test = y.iloc[train_idx], y.iloc[val_idx]\n",
    "\n"
   ]
  },
  {
   "cell_type": "markdown",
   "metadata": {},
   "source": [
    "# Model Selection"
   ]
  },
  {
   "cell_type": "markdown",
   "metadata": {},
   "source": [
    "1. Logistic Regression"
   ]
  },
  {
   "cell_type": "code",
   "execution_count": 16,
   "metadata": {},
   "outputs": [],
   "source": [
    "# Model Selection\n",
    "from sklearn.model_selection import train_test_split\n",
    "from sklearn.linear_model import LogisticRegression\n",
    "from sklearn.metrics import accuracy_score\n",
    "from sklearn.metrics import classification_report\n",
    "\n",
    "\n",
    "# # Define features and target\n",
    "# X = df.drop(columns=[\"diabetes\"])  # Ensure \"diabetes\" is the correct target column name\n",
    "# y = df[\"diabetes\"]\n",
    "\n",
    "# Apply StandardScaler BEFORE train-test split\n",
    "scaler = StandardScaler()\n",
    "X_scaled = scaler.fit_transform(X_selected)  \n",
    "\n",
    "# Step 1. Split the data into training and testing sets (80% train, 20% test)\n",
    "\n",
    "# X_train, X_test, y_train, y_test = train_test_split(X_selected, y, test_size=0.2, stratify=y, random_state=42)\n",
    "#X_train, X_test, y_train, y_test = train_test_split(X_scaled, y, test_size=0.2, stratify=y, random_state=42)\n",
    "if isinstance(X_train, np.ndarray):\n",
    "    X_train = pd.DataFrame(X_train, columns=selected_features)  # Ensure you have the correct feature names\n",
    "\n",
    "if isinstance(X_test, np.ndarray):\n",
    "    X_test = pd.DataFrame(X_test, columns=selected_features)\n",
    "\n",
    "\n",
    "\n",
    "# # Initialize and train the model\n",
    "# model = LogisticRegression()\n",
    "# model.fit(X_train, y_train)"
   ]
  },
  {
   "cell_type": "code",
   "execution_count": 17,
   "metadata": {},
   "outputs": [
    {
     "name": "stdout",
     "output_type": "stream",
     "text": [
      "Results stored successfully: Logistic Regression (Threshold: 0.5)\n",
      "Results stored successfully: Logistic Regression (Threshold: 0.5)\n",
      "Model Performance on Test set with Selected Features:\n",
      "              precision    recall  f1-score   support\n",
      "\n",
      "           0       0.97      0.99      0.98     17532\n",
      "           1       0.85      0.63      0.73      1697\n",
      "\n",
      "    accuracy                           0.96     19229\n",
      "   macro avg       0.91      0.81      0.85     19229\n",
      "weighted avg       0.96      0.96      0.96     19229\n",
      "\n",
      "Confusion Matrix (Test Set):\n",
      "[[17349   183]\n",
      " [  625  1072]]\n",
      "Model Performance on Train set with Selected Features:\n",
      "              precision    recall  f1-score   support\n",
      "\n",
      "           0       0.97      0.99      0.98     70132\n",
      "           1       0.87      0.63      0.73      6785\n",
      "\n",
      "    accuracy                           0.96     76917\n",
      "   macro avg       0.92      0.81      0.85     76917\n",
      "weighted avg       0.96      0.96      0.96     76917\n",
      "\n",
      "Confusion Matrix (Train Set):\n",
      "[[69478   654]\n",
      " [ 2512  4273]]\n"
     ]
    }
   ],
   "source": [
    "# Step 2. Use only selected features for model training\n",
    "#selected_features = [\"HbA1c_level\", \"blood_glucose_level\", \"bmi\", \"age\", \"hypertension\", \"heart_disease\"]\n",
    "X_train_selected = X_train[selected_features]\n",
    "X_test_selected = X_test[selected_features]\n",
    "\n",
    "# Step 3. Train the model with selected features\n",
    "model_lr = LogisticRegression()\n",
    "model_lr.fit(X_train_selected, y_train)\n",
    "\n",
    "# Step 4: Evaluate and make predictions on test set\n",
    "y_preds_test_lr = model_lr.predict(X_test_selected)\n",
    "store_classification_results(\"Logistic Regression\", \"test\", 0.50, y_test, y_preds_test_lr)\n",
    "\n",
    "# Step 5: Evaluate and make predictions on train set\n",
    "y_preds_train_lr = model_lr.predict(X_train_selected)\n",
    "store_classification_results(\"Logistic Regression\", \"train\", 0.50, y_train, y_preds_train_lr)\n",
    "\n",
    "print(\"Model Performance on Test set with Selected Features:\")\n",
    "print(classification_report(y_test, y_preds_test_lr))\n",
    "print(\"Confusion Matrix (Test Set):\")\n",
    "print(confusion_matrix(y_test, y_preds_test_lr))\n",
    "\n",
    "print(\"Model Performance on Train set with Selected Features:\")\n",
    "print(classification_report(y_train, y_preds_train_lr))\n",
    "print(\"Confusion Matrix (Train Set):\")\n",
    "print(confusion_matrix(y_train, y_preds_train_lr))\n"
   ]
  },
  {
   "cell_type": "markdown",
   "metadata": {},
   "source": [
    "**Summary**\n",
    "    - **Model Accuracy is at 96%**  \n",
    "    - **When the model predicts diabetes, it is correct 86% of the time**    \n",
    "    - **However, the model only catches 64% of actual diabetes cases**   \n",
    "    - **Balanced performance based on f1-score 0.73**   \n",
    "\n",
    "**Concerns**    \n",
    "    - **We are missing 36% of the actual diabetic cases**   "
   ]
  },
  {
   "cell_type": "markdown",
   "metadata": {},
   "source": [
    "Check class distribution"
   ]
  },
  {
   "cell_type": "code",
   "execution_count": 18,
   "metadata": {},
   "outputs": [
    {
     "name": "stdout",
     "output_type": "stream",
     "text": [
      "diabetes\n",
      "0    0.91178\n",
      "1    0.08822\n",
      "Name: proportion, dtype: float64\n"
     ]
    },
    {
     "data": {
      "image/png": "[encoded data removed]",
      "text/plain": [
       "<Figure size 640x480 with 1 Axes>"
      ]
     },
     "metadata": {},
     "output_type": "display_data"
    }
   ],
   "source": [
    "import seaborn as sns\n",
    "\n",
    "sns.countplot(x=y)\n",
    "print(y.value_counts(normalize=True))  # Shows class proportions\n"
   ]
  },
  {
   "cell_type": "markdown",
   "metadata": {},
   "source": [
    "Handling class imbalance as the Model is predicting majority as 0 meaning \"no diabetes\"\n"
   ]
  },
  {
   "cell_type": "markdown",
   "metadata": {},
   "source": [
    "**Test SMOTE with new threshold 0.85**"
   ]
  },
  {
   "cell_type": "code",
   "execution_count": 19,
   "metadata": {},
   "outputs": [
    {
     "name": "stdout",
     "output_type": "stream",
     "text": [
      "Results stored successfully: Logistic Regression (SMOTE) (Threshold: 0.5)\n",
      "Results stored successfully: Logistic Regression (SMOTE) (Threshold: 0.5)\n",
      "Model Performance on Test set with Selected Features:\n",
      "              precision    recall  f1-score   support\n",
      "\n",
      "           0       0.98      0.93      0.95     17532\n",
      "           1       0.52      0.80      0.63      1697\n",
      "\n",
      "    accuracy                           0.92     19229\n",
      "   macro avg       0.75      0.86      0.79     19229\n",
      "weighted avg       0.94      0.92      0.92     19229\n",
      "\n",
      "Confusion Matrix (Test Set):\n",
      "[[16274  1258]\n",
      " [  341  1356]]\n",
      "Model Performance on Train set with Selected Features:\n",
      "              precision    recall  f1-score   support\n",
      "\n",
      "           0       0.98      0.93      0.96     70132\n",
      "           1       0.53      0.79      0.64      6785\n",
      "\n",
      "    accuracy                           0.92     76917\n",
      "   macro avg       0.76      0.86      0.80     76917\n",
      "weighted avg       0.94      0.92      0.93     76917\n",
      "\n",
      "Confusion Matrix (Train Set):\n",
      "[[65483  4649]\n",
      " [ 1447  5338]]\n"
     ]
    }
   ],
   "source": [
    "from imblearn.over_sampling import SMOTE\n",
    "\n",
    "# Apply SMOTE to the training set\n",
    "smote = SMOTE(sampling_strategy=0.5, random_state=42)\n",
    "X_train_balanced, y_train_balanced = smote.fit_resample(X_train_selected, y_train)\n",
    "\n",
    "# Train Logistic Regression Again\n",
    "model_smote = LogisticRegression()\n",
    "model_smote.fit(X_train_balanced, y_train_balanced)\n",
    "\n",
    "# # Predict & Evaluate\n",
    "# y_preds_smote = model_smote.predict(X_test_selected)\n",
    "# store_classification_results(\"Logistic Regression (SMOTE)\", 0.50, y_test, y_preds_smote)\n",
    "# print(\"Model Performance after SMOTE:\")\n",
    "# print(classification_report(y_test, y_preds_smote))\n",
    "\n",
    "# Step 4: Evaluate and make predictions on test set\n",
    "y_preds_test_smote = model_smote.predict(X_test_selected)\n",
    "store_classification_results(\"Logistic Regression (SMOTE)\", \"test\", 0.50, y_test, y_preds_test_smote)\n",
    "\n",
    "# Step 5: Evaluate and make predictions on train set\n",
    "y_preds_train_smote = model_smote.predict(X_train_selected)\n",
    "store_classification_results(\"Logistic Regression (SMOTE)\", \"train\", 0.50, y_train, y_preds_train_smote)\n",
    "\n",
    "print(\"Model Performance on Test set with Selected Features:\")\n",
    "print(classification_report(y_test, y_preds_test_smote))\n",
    "print(\"Confusion Matrix (Test Set):\")\n",
    "print(confusion_matrix(y_test, y_preds_test_smote))\n",
    "\n",
    "print(\"Model Performance on Train set with Selected Features:\")\n",
    "print(classification_report(y_train, y_preds_train_smote))\n",
    "print(\"Confusion Matrix (Train Set):\")\n",
    "print(confusion_matrix(y_train, y_preds_train_smote))\n"
   ]
  },
  {
   "cell_type": "markdown",
   "metadata": {},
   "source": [
    "**Summary of Model performance after applying SMOTE**\n",
    "    - **Model Accuracy dropped to 92%**  \n",
    "    - **When the model predicts diabetes, it is correct 53% of the time**    \n",
    "    - **However, the model now catches 80% of actual diabetes cases**   \n",
    "    - **Balanced performance based on f1-score 0.64**   \n",
    "\n",
    "**We are now only missing 20% of the actual diabetic cases**   "
   ]
  },
  {
   "cell_type": "code",
   "execution_count": 20,
   "metadata": {},
   "outputs": [
    {
     "name": "stdout",
     "output_type": "stream",
     "text": [
      "Results stored successfully: XGBoost (Default threshold 50) (Threshold: 0.5)\n",
      "Results stored successfully: XGBoost (Default threshold 50) (Threshold: 0.5)\n",
      "Model Performance on Test set with Selected Features:\n",
      "              precision    recall  f1-score   support\n",
      "\n",
      "           0       0.99      0.91      0.95     17532\n",
      "           1       0.49      0.89      0.63      1697\n",
      "\n",
      "    accuracy                           0.91     19229\n",
      "   macro avg       0.74      0.90      0.79     19229\n",
      "weighted avg       0.94      0.91      0.92     19229\n",
      "\n",
      "Confusion Matrix (Test Set):\n",
      "[[15959  1573]\n",
      " [  184  1513]]\n",
      "\n",
      "Model Performance on Train set with Selected Features:\n",
      "              precision    recall  f1-score   support\n",
      "\n",
      "           0       1.00      0.93      0.96     70132\n",
      "           1       0.56      0.97      0.71      6785\n",
      "\n",
      "    accuracy                           0.93     76917\n",
      "   macro avg       0.78      0.95      0.83     76917\n",
      "weighted avg       0.96      0.93      0.94     76917\n",
      "\n",
      "Confusion Matrix (Train Set):\n",
      "[[64874  5258]\n",
      " [  221  6564]]\n"
     ]
    }
   ],
   "source": [
    "from xgboost import XGBClassifier\n",
    "from sklearn.metrics import classification_report, confusion_matrix\n",
    "\n",
    "# Compute class weight ratio for handling imbalance\n",
    "scale_pos_weight = y_train.value_counts()[0] / y_train.value_counts()[1]\n",
    "\n",
    "# Initialize XGBoost model with class balancing\n",
    "model_xgboost = XGBClassifier(scale_pos_weight=scale_pos_weight, \n",
    "                              random_state=42, \n",
    "                              use_label_encoder=False, \n",
    "                              eval_metric=\"logloss\")\n",
    "\n",
    "# Train the model only on the training set\n",
    "model_xgboost.fit(X_train_selected, y_train)\n",
    "\n",
    "# Step 4: Evaluate and make predictions on test set\n",
    "y_preds_test_xgboost_def = model_xgboost.predict_proba(X_test_selected)[:, 1]\n",
    "y_preds_test_xgboost_def_labels = (y_preds_test_xgboost_def >= 0.50).astype(int)\n",
    "store_classification_results(\"XGBoost (Default threshold 50)\", \"test\", 0.50, y_test, y_preds_test_xgboost_def_labels)\n",
    "\n",
    "# Step 5: Evaluate and make predictions on train set\n",
    "y_preds_train_xgboost_def = model_xgboost.predict_proba(X_train_selected)[:, 1]\n",
    "y_preds_train_xgboost_def_labels = (y_preds_train_xgboost_def >= 0.50).astype(int)\n",
    "store_classification_results(\"XGBoost (Default threshold 50)\", \"train\", 0.50, y_train, y_preds_train_xgboost_def_labels)\n",
    "\n",
    "# Print model performance using correct binary labels\n",
    "print(\"Model Performance on Test set with Selected Features:\")\n",
    "print(classification_report(y_test, y_preds_test_xgboost_def_labels))\n",
    "print(\"Confusion Matrix (Test Set):\")\n",
    "print(confusion_matrix(y_test, y_preds_test_xgboost_def_labels))\n",
    "\n",
    "print(\"\\nModel Performance on Train set with Selected Features:\")\n",
    "print(classification_report(y_train, y_preds_train_xgboost_def_labels))\n",
    "print(\"Confusion Matrix (Train Set):\")\n",
    "print(confusion_matrix(y_train, y_preds_train_xgboost_def_labels))\n"
   ]
  },
  {
   "cell_type": "code",
   "execution_count": 21,
   "metadata": {},
   "outputs": [
    {
     "name": "stdout",
     "output_type": "stream",
     "text": [
      "Results stored successfully: XGBoost (threshold 40) (Threshold: 0.4)\n",
      "Results stored successfully: XGBoost (threshold 40) (Threshold: 0.4)\n",
      "Model Performance on Test set with Selected Features:\n",
      "              precision    recall  f1-score   support\n",
      "\n",
      "           0       0.99      0.88      0.93     17532\n",
      "           1       0.43      0.92      0.59      1697\n",
      "\n",
      "    accuracy                           0.89     19229\n",
      "   macro avg       0.71      0.90      0.76     19229\n",
      "weighted avg       0.94      0.89      0.90     19229\n",
      "\n",
      "Confusion Matrix (Test Set):\n",
      "[[15490  2042]\n",
      " [  130  1567]]\n",
      "\n",
      "Model Performance on Train set with Selected Features:\n",
      "              precision    recall  f1-score   support\n",
      "\n",
      "           0       1.00      0.90      0.95     70132\n",
      "           1       0.48      0.98      0.65      6785\n",
      "\n",
      "    accuracy                           0.90     76917\n",
      "   macro avg       0.74      0.94      0.80     76917\n",
      "weighted avg       0.95      0.90      0.92     76917\n",
      "\n",
      "Confusion Matrix (Train Set):\n",
      "[[62915  7217]\n",
      " [  102  6683]]\n"
     ]
    }
   ],
   "source": [
    "from xgboost import XGBClassifier\n",
    "from sklearn.metrics import classification_report, confusion_matrix\n",
    "\n",
    "# Compute class weight ratio for handling imbalance\n",
    "scale_pos_weight = y_train.value_counts()[0] / y_train.value_counts()[1]\n",
    "\n",
    "# Initialize XGBoost model with class balancing\n",
    "model_xgboost = XGBClassifier(scale_pos_weight=scale_pos_weight, \n",
    "                              random_state=42, \n",
    "                              use_label_encoder=False, \n",
    "                              eval_metric=\"logloss\")\n",
    "\n",
    "#  Train the model only on the training set\n",
    "model_xgboost.fit(X_train_selected, y_train)\n",
    "\n",
    "# Step 4: Evaluate and make predictions on test set\n",
    "y_preds_test_xgboost_def = model_xgboost.predict_proba(X_test_selected)[:, 1]\n",
    "y_preds_test_xgboost_def_labels = (y_preds_test_xgboost_def >= 0.40).astype(int)\n",
    "store_classification_results(\"XGBoost (threshold 40)\", \"test\", 0.40, y_test, y_preds_test_xgboost_def_labels)\n",
    "\n",
    "# Step 5: Evaluate and make predictions on train set\n",
    "y_preds_train_xgboost_def = model_xgboost.predict_proba(X_train_selected)[:, 1]\n",
    "y_preds_train_xgboost_def_labels = (y_preds_train_xgboost_def >= 0.40).astype(int)\n",
    "store_classification_results(\"XGBoost (threshold 40)\", \"train\", 0.40, y_train, y_preds_train_xgboost_def_labels)\n",
    "\n",
    "# Print model performance using correct binary labels\n",
    "print(\"Model Performance on Test set with Selected Features:\")\n",
    "print(classification_report(y_test, y_preds_test_xgboost_def_labels))\n",
    "print(\"Confusion Matrix (Test Set):\")\n",
    "print(confusion_matrix(y_test, y_preds_test_xgboost_def_labels))\n",
    "\n",
    "print(\"\\nModel Performance on Train set with Selected Features:\")\n",
    "print(classification_report(y_train, y_preds_train_xgboost_def_labels))\n",
    "print(\"Confusion Matrix (Train Set):\")\n",
    "print(confusion_matrix(y_train, y_preds_train_xgboost_def_labels))\n"
   ]
  },
  {
   "cell_type": "code",
   "execution_count": 22,
   "metadata": {},
   "outputs": [
    {
     "data": {
      "image/png": "[encoded data removed]",
      "text/plain": [
       "<Figure size 1000x600 with 1 Axes>"
      ]
     },
     "metadata": {},
     "output_type": "display_data"
    }
   ],
   "source": [
    "import matplotlib.pyplot as plt\n",
    "import seaborn as sns\n",
    "\n",
    "# Get feature importances from trained XGBoost model\n",
    "feature_importances = model_xgboost.feature_importances_\n",
    "feature_names = X_train_selected.columns\n",
    "\n",
    "# Create a DataFrame for visualization\n",
    "importance_df = pd.DataFrame({'Feature': feature_names, 'Importance': feature_importances})\n",
    "importance_df = importance_df.sort_values(by='Importance', ascending=False)\n",
    "\n",
    "# Plot feature importances\n",
    "plt.figure(figsize=(10, 6))\n",
    "sns.barplot(x=importance_df['Importance'], y=importance_df['Feature'], palette='viridis')\n",
    "plt.xlabel(\"Feature Importance Score\")\n",
    "plt.ylabel(\"Features\")\n",
    "plt.title(\"Feature Importance from XGBoost Model\")\n",
    "plt.show()\n"
   ]
  },
  {
   "cell_type": "markdown",
   "metadata": {},
   "source": [
    "# **TESTING**\n",
    " - **Include all unit testing below**\n"
   ]
  },
  {
   "cell_type": "code",
   "execution_count": 23,
   "metadata": {},
   "outputs": [
    {
     "data": {
      "text/plain": [
       "<bound method NDFrame.describe of        gender   age  hypertension  heart_disease    bmi  HbA1c_level  \\\n",
       "0           0  80.0             0              1  25.19          6.6   \n",
       "1           0  54.0             0              0  27.32          6.6   \n",
       "2           1  28.0             0              0  27.32          5.7   \n",
       "3           0  36.0             0              0  23.45          5.0   \n",
       "4           1  76.0             1              1  20.14          4.8   \n",
       "...       ...   ...           ...            ...    ...          ...   \n",
       "96141       0  36.0             0              0  24.60          4.8   \n",
       "96142       0   2.0             0              0  17.37          6.5   \n",
       "96143       1  66.0             0              0  27.83          5.7   \n",
       "96144       0  24.0             0              0  35.42          4.0   \n",
       "96145       0  57.0             0              0  22.43          6.6   \n",
       "\n",
       "       blood_glucose_level  diabetes  smoking_encoded  \n",
       "0                      140         0         0.097011  \n",
       "1                       80         0         0.043938  \n",
       "2                      158         0         0.097011  \n",
       "3                      155         0         0.103077  \n",
       "4                      155         0         0.103077  \n",
       "...                    ...       ...              ...  \n",
       "96141                  145         0         0.043938  \n",
       "96142                  100         0         0.043938  \n",
       "96143                  155         0         0.170986  \n",
       "96144                  100         0         0.097011  \n",
       "96145                   90         0         0.103077  \n",
       "\n",
       "[96146 rows x 9 columns]>"
      ]
     },
     "execution_count": 23,
     "metadata": {},
     "output_type": "execute_result"
    }
   ],
   "source": [
    "df.describe"
   ]
  },
  {
   "cell_type": "code",
   "execution_count": 24,
   "metadata": {},
   "outputs": [
    {
     "data": {
      "text/plain": [
       "<bound method DataFrame.info of        gender   age  hypertension  heart_disease    bmi  HbA1c_level  \\\n",
       "0           0  80.0             0              1  25.19          6.6   \n",
       "1           0  54.0             0              0  27.32          6.6   \n",
       "2           1  28.0             0              0  27.32          5.7   \n",
       "3           0  36.0             0              0  23.45          5.0   \n",
       "4           1  76.0             1              1  20.14          4.8   \n",
       "...       ...   ...           ...            ...    ...          ...   \n",
       "96141       0  36.0             0              0  24.60          4.8   \n",
       "96142       0   2.0             0              0  17.37          6.5   \n",
       "96143       1  66.0             0              0  27.83          5.7   \n",
       "96144       0  24.0             0              0  35.42          4.0   \n",
       "96145       0  57.0             0              0  22.43          6.6   \n",
       "\n",
       "       blood_glucose_level  diabetes  smoking_encoded  \n",
       "0                      140         0         0.097011  \n",
       "1                       80         0         0.043938  \n",
       "2                      158         0         0.097011  \n",
       "3                      155         0         0.103077  \n",
       "4                      155         0         0.103077  \n",
       "...                    ...       ...              ...  \n",
       "96141                  145         0         0.043938  \n",
       "96142                  100         0         0.043938  \n",
       "96143                  155         0         0.170986  \n",
       "96144                  100         0         0.097011  \n",
       "96145                   90         0         0.103077  \n",
       "\n",
       "[96146 rows x 9 columns]>"
      ]
     },
     "execution_count": 24,
     "metadata": {},
     "output_type": "execute_result"
    }
   ],
   "source": [
    "df.info"
   ]
  },
  {
   "cell_type": "code",
   "execution_count": 25,
   "metadata": {},
   "outputs": [
    {
     "name": "stdout",
     "output_type": "stream",
     "text": [
      "   id                      model_name data_type  threshold  precision  \\\n",
      "0   1             Logistic Regression      test        0.5   0.854183   \n",
      "1   2             Logistic Regression     train        0.5   0.867262   \n",
      "2   3     Logistic Regression (SMOTE)      test        0.5   0.518745   \n",
      "3   4     Logistic Regression (SMOTE)     train        0.5   0.534495   \n",
      "4   5  XGBoost (Default threshold 50)      test        0.5   0.490279   \n",
      "5   6  XGBoost (Default threshold 50)     train        0.5   0.555236   \n",
      "6   7          XGBoost (threshold 40)      test        0.4   0.434192   \n",
      "7   8          XGBoost (threshold 40)     train        0.4   0.480791   \n",
      "\n",
      "     recall  f1_score  accuracy        run_timestamp  \n",
      "0  0.631703  0.726287  0.957980  2025-03-20 04:18:18  \n",
      "1  0.629772  0.729679  0.958839  2025-03-20 04:18:18  \n",
      "2  0.799057  0.629088  0.916844  2025-03-20 04:18:31  \n",
      "3  0.786735  0.636537  0.920746  2025-03-20 04:18:31  \n",
      "4  0.891573  0.632657  0.908628  2025-03-20 04:18:35  \n",
      "5  0.967428  0.705541  0.928767  2025-03-20 04:18:35  \n",
      "6  0.923394  0.590652  0.887046  2025-03-20 04:18:38  \n",
      "7  0.984967  0.646169  0.904845  2025-03-20 04:18:38  \n"
     ]
    }
   ],
   "source": [
    "import pandas as pd\n",
    "\n",
    "# Load stored results into a DataFrame\n",
    "conn = sqlite3.connect(\"diabetes_results.db\")\n",
    "df_results = pd.read_sql(\"SELECT * FROM model_results\", conn)\n",
    "conn.close()\n",
    "\n",
    "# Display results\n",
    "print(df_results)\n"
   ]
  },
  {
   "cell_type": "code",
   "execution_count": 27,
   "metadata": {},
   "outputs": [
    {
     "data": {
      "image/png": "[encoded data removed]",
      "text/plain": [
       "<Figure size 1200x600 with 1 Axes>"
      ]
     },
     "metadata": {},
     "output_type": "display_data"
    },
    {
     "data": {
      "image/png": "[encoded data removed]",
      "text/plain": [
       "<Figure size 1200x600 with 1 Axes>"
      ]
     },
     "metadata": {},
     "output_type": "display_data"
    }
   ],
   "source": [
    "# Re-import necessary libraries\n",
    "import sqlite3\n",
    "import pandas as pd\n",
    "import matplotlib.pyplot as plt\n",
    "import seaborn as sns\n",
    "\n",
    "# Load stored results into separate DataFrames for test and train\n",
    "conn = sqlite3.connect(\"diabetes_results.db\")\n",
    "df_results_test = pd.read_sql(\"SELECT * FROM model_results WHERE data_type = 'test'\", conn)\n",
    "df_results_train = pd.read_sql(\"SELECT * FROM model_results WHERE data_type = 'train'\", conn)\n",
    "conn.close()\n",
    "\n",
    "# Set dark plot style\n",
    "plt.style.use(\"dark_background\")\n",
    "\n",
    "# Define brighter colors explicitly\n",
    "palette = {\"precision\": \"#FF4500\", \"recall\": \"#32CD32\", \"accuracy\": \"#1E90FF\"}\n",
    "\n",
    "# Function to plot metrics for test and train data separately\n",
    "def plot_metrics(df, title):\n",
    "    plt.figure(figsize=(12, 6))\n",
    "    \n",
    "    # Reshape DataFrame for seaborn compatibility\n",
    "    df_melted = df.melt(id_vars='model_name', value_vars=['precision', 'recall', 'accuracy'],\n",
    "                        var_name='metric', value_name='score')\n",
    "    \n",
    "    sns.barplot(data=df_melted, x=\"model_name\", y=\"score\", hue=\"metric\", palette=palette)\n",
    "    \n",
    "    # Customize the plot\n",
    "    plt.xlabel(\"Model Name\")\n",
    "    plt.ylabel(\"Score\")\n",
    "    plt.xticks(rotation=20, ha=\"right\")\n",
    "    plt.title(title)\n",
    "    plt.legend(title='Metrics', loc='lower right')\n",
    "\n",
    "    # Show plot\n",
    "    plt.show()\n",
    "\n",
    "# Generate separate plots for Test and Train\n",
    "plot_metrics(df_results_test, \"Model Performance (Test Data)\")\n",
    "plot_metrics(df_results_train, \"Model Performance (Train Data)\")\n"
   ]
  },
  {
   "cell_type": "markdown",
   "metadata": {},
   "source": [
    "**Legend**  \n",
    "    -   **precision: higher the precision, the fewer the false alarms**     \n",
    "    -   **recall: higher the recall, the model accurately identifies who are diabetic**    "
   ]
  },
  {
   "cell_type": "markdown",
   "metadata": {},
   "source": []
  }
 ],
 "metadata": {
  "colab": {
   "provenance": []
  },
  "kernelspec": {
   "display_name": "CSE6242",
   "language": "python",
   "name": "python3"
  },
  "language_info": {
   "codemirror_mode": {
    "name": "ipython",
    "version": 3
   },
   "file_extension": ".py",
   "mimetype": "text/x-python",
   "name": "python",
   "nbconvert_exporter": "python",
   "pygments_lexer": "ipython3",
   "version": "3.10.16"
  }
 },
 "nbformat": 4,
 "nbformat_minor": 4
}
